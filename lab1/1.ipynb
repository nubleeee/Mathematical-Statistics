{
 "cells": [
  {
   "cell_type": "markdown",
   "metadata": {},
   "source": [
    "# Лабораторная работа №1."
   ]
  },
  {
   "cell_type": "markdown",
   "metadata": {},
   "source": [
    "## Условие\n",
    "\n",
    "Вариант №2.\n",
    "\n",
    "Распределения: \n",
    "\n",
    "$$\\mathbf{X_1} \\sim R(2, 6)$$\n",
    "\n",
    "$$\\mathbf{X_2} \\sim R(2, 6)$$\n",
    "\n",
    "Объёмы выборок:\n",
    "\n",
    "$$ n_1 = 50$$\n",
    "\n",
    "$$ n_2 = 50 $$\n",
    "\n",
    "\n",
    "Статистическая гипотеза $H_0$:\n",
    "\n",
    "$$m_1 = 4 \\ (\\sigma_1\\text{ - известна})$$"
   ]
  },
  {
   "cell_type": "markdown",
   "metadata": {},
   "source": [
    "## Импорты"
   ]
  },
  {
   "cell_type": "code",
   "execution_count": 160,
   "metadata": {},
   "outputs": [],
   "source": [
    "import numpy as np\n",
    "import matplotlib.pyplot as plt\n",
    "from math import sqrt\n",
    "from scipy import stats\n",
    "from time import time\n",
    "from IPython.display import display, Math, Markdown  # для вывода формул в консоль"
   ]
  },
  {
   "cell_type": "markdown",
   "metadata": {},
   "source": [
    "## Определения"
   ]
  },
  {
   "cell_type": "code",
   "execution_count": 52,
   "metadata": {},
   "outputs": [],
   "source": [
    "a1, b1, n1 = 2, 6, 50\n",
    "a2, b2, n2 = 2, 6, 50"
   ]
  },
  {
   "cell_type": "code",
   "execution_count": null,
   "metadata": {},
   "outputs": [],
   "source": [
    "def mprint(*strings):\n",
    "    for s in strings:\n",
    "        display(Markdown(s))\n",
    "\n",
    "\n",
    "np.random.seed(int(time()))\n",
    "plt.rc(\"text\", usetex=True)\n",
    "plt.rc(\n",
    "    \"text.latex\",\n",
    "    preamble=r\"\"\"\n",
    "\\usepackage[english, russian]{babel}\n",
    "\\usepackage[utf8]{inputenc}\n",
    "\"\"\",\n",
    ")\n",
    "plt.style.use(\"seaborn-v0_8\")"
   ]
  },
  {
   "cell_type": "markdown",
   "metadata": {
    "tags": [
     "sometag"
    ]
   },
   "source": [
    "## 1. Исходные данные\n",
    "\n",
    "| СВ             | Распределение | Параметры          | Математическое ожидание, $m_i$   | Дисперсия, $\\sigma_i^2$                                 |\n",
    "| -------------- | ------------- | ------------------ | -------------------------------- | ------------------------------------------------------- |\n",
    "| $\\mathbf{X_1}$ | $R(2, 6)$     | $a_1 = 2, b_1 = 6$ | $m_1 = \\dfrac{a_1 + b_1}{2} = 4$ | $\\sigma_1^2 = \\dfrac{(b_1 - a_1)^2}{12} = \\dfrac{4}{3}$ |\n",
    "| $\\mathbf{X_2}$ | $R(2, 6)$     | $a_2 = 2, b_2 = 6$ | $m_2 = \\dfrac{a_2 + b_2}{2} = 4$ | $\\sigma_2^2 = \\dfrac{(b_2 - a_2)^2}{12} = \\dfrac{4}{3}$ |\n"
   ]
  },
  {
   "cell_type": "code",
   "execution_count": null,
   "metadata": {},
   "outputs": [
    {
     "data": {
      "text/markdown": [
       "$\\mathbf{X1}$: [3.55 2.3  5.3  3.07 4.7  3.99 3.84 5.01 5.59 4.14]"
      ],
      "text/plain": [
       "<IPython.core.display.Markdown object>"
      ]
     },
     "metadata": {},
     "output_type": "display_data"
    },
    {
     "data": {
      "text/markdown": [
       "$\\mathbf{X2}$: [3.85 3.08 2.63 2.38 5.61 4.7  2.76 2.72 3.42 5.76]"
      ],
      "text/plain": [
       "<IPython.core.display.Markdown object>"
      ]
     },
     "metadata": {},
     "output_type": "display_data"
    }
   ],
   "source": [
    "X1 = np.random.uniform(a1, b1, n1)\n",
    "X2 = np.random.uniform(a2, b2, n2)\n",
    "\n",
    "mprint(f\"$\\\\mathbf{{X1}}$: {X1[:10].round(2)}\")\n",
    "mprint(f\"$\\\\mathbf{{X2}}$: {X2[:10].round(2)}\")"
   ]
  },
  {
   "cell_type": "markdown",
   "metadata": {},
   "source": [
    "### Выборочные характеристики"
   ]
  },
  {
   "cell_type": "markdown",
   "metadata": {},
   "source": [
    "Мы имеем выборку, нам нужно рассчитать **несмещенную** оценку с.к.о. и дисперсии, поэтому применяем формулы:\n",
    "\n",
    "$$ s = \\sqrt{\\dfrac{1}{n - 1} \\sum\\limits_{i = 1}^{n} (x_i - \\overline{x})^2} $$\n",
    "$$ s^2 = \\dfrac{1}{n - 1} \\sum\\limits_{i = 1}^{n} (x_i - \\overline{x})^2 $$\n",
    "\n",
    "Множитель $\\dfrac{1}{n - a}$  в `numpy` достигается передачей параметра `ddof=a`, в данном случае `ddof=1`. "
   ]
  },
  {
   "cell_type": "code",
   "execution_count": null,
   "metadata": {},
   "outputs": [
    {
     "data": {
      "text/markdown": [
       "$\\overline{x_1} =$ 4.00, $s_1^2 =$ 1.34, $s_1$ = 1.16, $n_1 =$ 50"
      ],
      "text/plain": [
       "<IPython.core.display.Markdown object>"
      ]
     },
     "metadata": {},
     "output_type": "display_data"
    },
    {
     "data": {
      "text/markdown": [
       "$\\overline{x_2} =$ 3.85, $s_2^2 =$ 1.70, $s_2$ = 1.31, $n_2 =$ 50"
      ],
      "text/plain": [
       "<IPython.core.display.Markdown object>"
      ]
     },
     "metadata": {},
     "output_type": "display_data"
    },
    {
     "data": {
      "text/markdown": [
       "$\\overline{x_{pooled}} =$ 3.92, $s_{pooled}^2 =$ 1.51, $s_{pooled}$ = 1.23, $n_{pooled} =$ 100"
      ],
      "text/plain": [
       "<IPython.core.display.Markdown object>"
      ]
     },
     "metadata": {},
     "output_type": "display_data"
    }
   ],
   "source": [
    "mean1 = X1.mean()\n",
    "s1 = X1.std(ddof=1)\n",
    "S1 = X1.var(ddof=1)\n",
    "\n",
    "mean2 = X2.mean()\n",
    "s2 = X2.std(ddof=1)\n",
    "S2 = X2.var(ddof=1)\n",
    "\n",
    "X_pooled = np.concat((X1, X2))\n",
    "mean_pooled = X_pooled.mean()\n",
    "s_pooled = X_pooled.std(ddof=1)\n",
    "S_pooled = X_pooled.var(ddof=1)\n",
    "\n",
    "mprint(\n",
    "    f\"$\\\\overline{{x_1}} =$ {mean1:.2f}, $s_1^2 =$ {S1:.2f}, $s_1$ = {s1:.2f}, $n_1 =$ {n1}\"\n",
    ")\n",
    "mprint(\n",
    "    f\"$\\\\overline{{x_2}} =$ {mean2:.2f}, $s_2^2 =$ {S2:.2f}, $s_2$ = {s2:.2f}, $n_2 =$ {n2}\"\n",
    ")\n",
    "\n",
    "mprint(\n",
    "    f\"$\\\\overline{{x_{{pooled}}}} =$ {mean_pooled:.2f}, $s_{{pooled}}^2 =$ {S_pooled:.2f}, $s_{{pooled}}$ = {s_pooled:.2f}, $n_{{pooled}} =$ {n1 + n2}\",\n",
    ")"
   ]
  },
  {
   "cell_type": "markdown",
   "metadata": {},
   "source": [
    "| СВ            | Среднее, $\\overline{x_i}$ | Оценка дисперсии, $s_i^2$ | Оценка с.к.о., $s_i$ | Объём выборки, $n_i$ |\n",
    "| ------------- | ------------------------- | ------------------------- | -------------------- | -------------------- |\n",
    "| $\\mathbf{X1}$ | 4.00                      | 1.34                      | 1.16                 | 50                   |\n",
    "| $\\mathbf{X2}$ | 3.85                      | 1.70                      | 1.31                 | 50                   |\n",
    "| Pooled        | 3.92                      | 1.51                      | 1.23                 | 100                  |\n"
   ]
  },
  {
   "cell_type": "markdown",
   "metadata": {},
   "source": [
    "## 2. Однопараметрические критерии"
   ]
  },
  {
   "cell_type": "markdown",
   "metadata": {},
   "source": [
    "В начале лабы мы генерировали выборку по какому-то распределению. Теперь мы хотим поработать с библиотечными функциями проверки гипотез. Поэтому для различных функций будем ставить заранее верную нулевую гипотезу: просто ставить параметры изначального распределения. \n",
    "\n",
    "В данном случае ошибка может быть только 1-го рода: мы даём верную гипотезу, заранее зная это, но статистическое решение может отвергнуть её. Поэтому мы будем вписывать в поле \"ошибка статистического решения\" значение \"да\" только тогда, когда по $p$ value мы должны отвергать гипотезу."
   ]
  },
  {
   "cell_type": "code",
   "execution_count": 77,
   "metadata": {},
   "outputs": [],
   "source": [
    "alpha = 0.05\n",
    "m0 = 4\n",
    "std0 = sqrt(4 / 3)\n",
    "\n",
    "\n",
    "def verdict(alpha, p_value):\n",
    "    if alpha > p_value:\n",
    "        return \"$H_0$ отклоняется\"\n",
    "    else:\n",
    "        return \"$H_0$ принимается\""
   ]
  },
  {
   "cell_type": "markdown",
   "metadata": {},
   "source": [
    "### z-test"
   ]
  },
  {
   "cell_type": "markdown",
   "metadata": {},
   "source": [
    "Мы используем данную статистику критерия, когда основная гипотеза $H_0$ связана со значением математического ожидания распределения, из которого мы взяли выборку. При этом $\\sigma$ считается известной.\n",
    "\n",
    "\n",
    "Я не нашел адекватной библиотечной функции, которая проверяет гипотезу с известным $\\sigma$, поэтому напишу её сам."
   ]
  },
  {
   "cell_type": "markdown",
   "metadata": {},
   "source": [
    "$$ Z = \\dfrac{\\overline{X} - m_0}{\\frac{\\sigma}{\\sqrt{n}}} $$"
   ]
  },
  {
   "cell_type": "markdown",
   "metadata": {},
   "source": [
    "Так как критическая область двусторонняя, то выражение для $p$ value примет вид:\n",
    "$$ p = 2\\min(F_Z(z_{выб} \\mid H_0), 1 - F_Z(z_{выб} \\mid H_0)) $$"
   ]
  },
  {
   "cell_type": "code",
   "execution_count": 87,
   "metadata": {},
   "outputs": [],
   "source": [
    "def ztest(X, value, std):\n",
    "    mean = X.mean()\n",
    "    n = len(X)\n",
    "    z = (mean - value) / (std / sqrt(n))\n",
    "    cdf = stats.norm.cdf(z)\n",
    "    p_value = 2 * min(cdf, 1 - cdf)\n",
    "    return z, p_value"
   ]
  },
  {
   "cell_type": "markdown",
   "metadata": {},
   "source": [
    "В данном случае $H_0 = m_0 = 4$ - я просто предположил, что математическое ожидание распределения по выборке действительно совпадает с математическим ожиданием равномерного распределения при таких параметрах (см. [табличку](#1-исходные-данные))."
   ]
  },
  {
   "cell_type": "code",
   "execution_count": null,
   "metadata": {},
   "outputs": [
    {
     "data": {
      "text/markdown": [
       "### Z-test"
      ],
      "text/plain": [
       "<IPython.core.display.Markdown object>"
      ]
     },
     "metadata": {},
     "output_type": "display_data"
    },
    {
     "data": {
      "text/markdown": [
       "$H_0: m_1 = m_0 = 4$"
      ],
      "text/plain": [
       "<IPython.core.display.Markdown object>"
      ]
     },
     "metadata": {},
     "output_type": "display_data"
    },
    {
     "data": {
      "text/markdown": [
       "$z_{выб} =$ -0.01"
      ],
      "text/plain": [
       "<IPython.core.display.Markdown object>"
      ]
     },
     "metadata": {},
     "output_type": "display_data"
    },
    {
     "data": {
      "text/markdown": [
       "$p =$ 0.99"
      ],
      "text/plain": [
       "<IPython.core.display.Markdown object>"
      ]
     },
     "metadata": {},
     "output_type": "display_data"
    },
    {
     "data": {
      "text/markdown": [
       "$H_0$ принимается"
      ],
      "text/plain": [
       "<IPython.core.display.Markdown object>"
      ]
     },
     "metadata": {},
     "output_type": "display_data"
    }
   ],
   "source": [
    "z, p_value = ztest(X1, m0, std0)\n",
    "\n",
    "mprint(\n",
    "    r\"### Z-test\",\n",
    "    f\"$H_0: m_1 = m_0 = {m0}$\",\n",
    "    f\"$z_{{выб}} =$ {z:.2f}\",\n",
    "    f\"$p =$ {p_value:.2f}\",\n",
    "    verdict(alpha, p_value)\n",
    ")"
   ]
  },
  {
   "cell_type": "markdown",
   "metadata": {},
   "source": [
    "### t-test"
   ]
  },
  {
   "cell_type": "markdown",
   "metadata": {},
   "source": [
    "Отличается от [`Z-test`](#z-test) тем, что $\\sigma$ неизвестна, и считается её выборочное значение под капотом. Тут уже есть библиотечные функции."
   ]
  },
  {
   "cell_type": "code",
   "execution_count": null,
   "metadata": {},
   "outputs": [
    {
     "data": {
      "text/markdown": [
       "### T-test"
      ],
      "text/plain": [
       "<IPython.core.display.Markdown object>"
      ]
     },
     "metadata": {},
     "output_type": "display_data"
    },
    {
     "data": {
      "text/markdown": [
       "$H_0: m_1 = m_0 = 4$"
      ],
      "text/plain": [
       "<IPython.core.display.Markdown object>"
      ]
     },
     "metadata": {},
     "output_type": "display_data"
    },
    {
     "data": {
      "text/markdown": [
       "$z_{выб} =$ -0.01"
      ],
      "text/plain": [
       "<IPython.core.display.Markdown object>"
      ]
     },
     "metadata": {},
     "output_type": "display_data"
    },
    {
     "data": {
      "text/markdown": [
       "$p =$ 0.99"
      ],
      "text/plain": [
       "<IPython.core.display.Markdown object>"
      ]
     },
     "metadata": {},
     "output_type": "display_data"
    },
    {
     "data": {
      "text/markdown": [
       "$H_0$ принимается"
      ],
      "text/plain": [
       "<IPython.core.display.Markdown object>"
      ]
     },
     "metadata": {},
     "output_type": "display_data"
    }
   ],
   "source": [
    "z, p_value = stats.ttest_1samp(X1, m0)\n",
    "\n",
    "mprint(\n",
    "    r\"### T-test\",\n",
    "    f\"$H_0: m_1 = m_0 = {m0}$\",\n",
    "    f\"$z_{{выб}} =$ {z:.2f}\",\n",
    "    f\"$p =$ {p_value:.2f}\",\n",
    "    verdict(alpha, p_value),\n",
    ")"
   ]
  },
  {
   "cell_type": "markdown",
   "metadata": {},
   "source": [
    "### $\\chi^2$-test ($m$ известно)"
   ]
  },
  {
   "cell_type": "markdown",
   "metadata": {},
   "source": [
    "Мы используем данную статистику критерия, когда основная гипотеза $H_0$ связана со значением $\\sigma$ распределения, из которого мы взяли выборку. При этом $m$ считается известной.\n",
    "\n",
    "Опять же я не нашёл библиотечных функций конкретно для этого случая, поэтому опять написал функцию по лекции:\n",
    "\n",
    "$$ Z = \\dfrac{n \\cdot S_0^2}{\\sigma_0^2} $$\n",
    "\n",
    "$$ S_0^2 = \\frac{1}{n} \\cdot \\sum\\limits_{i=1}^{n} (X_i - m)^2 $$\n",
    "\n",
    "Так как критическая область двусторонняя($Z$ не сильно должно отличаться от $n$ при истинности $H_0$):\n",
    "$$ p = 2\\min(F_Z(z_{выб} \\mid H_0), 1 - F_Z(z_{выб} \\mid H_0)) $$"
   ]
  },
  {
   "cell_type": "code",
   "execution_count": 122,
   "metadata": {},
   "outputs": [],
   "source": [
    "def S_0(X, m):\n",
    "    n = len(X)\n",
    "    return np.sum((X - m) ** 2) / n\n",
    "\n",
    "\n",
    "def chisquare(X, value, m):\n",
    "    n = len(X)\n",
    "    z = n * S_0(X, m) / value**2\n",
    "    cdf = stats.chi2.cdf(z, n)\n",
    "    p_value = 2 * min(cdf, 1 - cdf)\n",
    "    return z, p_value"
   ]
  },
  {
   "cell_type": "code",
   "execution_count": null,
   "metadata": {},
   "outputs": [
    {
     "data": {
      "text/markdown": [
       "### $\\chi^2$-test ($m$ известно)"
      ],
      "text/plain": [
       "<IPython.core.display.Markdown object>"
      ]
     },
     "metadata": {},
     "output_type": "display_data"
    },
    {
     "data": {
      "text/markdown": [
       "$H_0: \\sigma_1 = \\sigma_0 = 1.15$"
      ],
      "text/plain": [
       "<IPython.core.display.Markdown object>"
      ]
     },
     "metadata": {},
     "output_type": "display_data"
    },
    {
     "data": {
      "text/markdown": [
       "$z_{выб} =$ 49.23"
      ],
      "text/plain": [
       "<IPython.core.display.Markdown object>"
      ]
     },
     "metadata": {},
     "output_type": "display_data"
    },
    {
     "data": {
      "text/markdown": [
       "$p =$ 0.50"
      ],
      "text/plain": [
       "<IPython.core.display.Markdown object>"
      ]
     },
     "metadata": {},
     "output_type": "display_data"
    },
    {
     "data": {
      "text/markdown": [
       "$H_0$ принимается"
      ],
      "text/plain": [
       "<IPython.core.display.Markdown object>"
      ]
     },
     "metadata": {},
     "output_type": "display_data"
    }
   ],
   "source": [
    "z, p_value = chisquare(X1, std0, m0)\n",
    "mprint(\n",
    "    r\"### $\\chi^2$-test ($m$ известно)\",\n",
    "    f\"$H_0: \\\\sigma_1 = \\\\sigma_0 = {std0:.2f}$\",\n",
    "    f\"$z_{{выб}} =$ {z:.2f}\",\n",
    "    f\"$p =$ {p_value:.2f}\",\n",
    "    verdict(alpha, p_value)\n",
    ")"
   ]
  },
  {
   "cell_type": "markdown",
   "metadata": {},
   "source": [
    "### $\\chi^2$-test ($m$ неизвестно)"
   ]
  },
  {
   "cell_type": "markdown",
   "metadata": {},
   "source": [
    "Отличается от [$\\chi^2$-test c известным $m$](#-test--известна) тем, что считается выборочное значение $m$ под капотом. Библиотечных функций опять не завезли :("
   ]
  },
  {
   "cell_type": "code",
   "execution_count": 124,
   "metadata": {},
   "outputs": [],
   "source": [
    "def chisquare(X, value):\n",
    "    n = len(X)\n",
    "    z = (n - 1) * X.var(ddof=1) / value**2\n",
    "    cdf = stats.chi2.cdf(z, n - 1)\n",
    "    p_value = 2 * min(cdf, 1 - cdf)\n",
    "    return z, p_value"
   ]
  },
  {
   "cell_type": "code",
   "execution_count": null,
   "metadata": {},
   "outputs": [
    {
     "data": {
      "text/markdown": [
       "### $\\chi^2$-test ($m$ неизвестно)"
      ],
      "text/plain": [
       "<IPython.core.display.Markdown object>"
      ]
     },
     "metadata": {},
     "output_type": "display_data"
    },
    {
     "data": {
      "text/markdown": [
       "$H_0: \\sigma_1 = \\sigma_0 = 1.15$"
      ],
      "text/plain": [
       "<IPython.core.display.Markdown object>"
      ]
     },
     "metadata": {},
     "output_type": "display_data"
    },
    {
     "data": {
      "text/markdown": [
       "$z_{выб} =$ 49.23"
      ],
      "text/plain": [
       "<IPython.core.display.Markdown object>"
      ]
     },
     "metadata": {},
     "output_type": "display_data"
    },
    {
     "data": {
      "text/markdown": [
       "$p =$ 0.46"
      ],
      "text/plain": [
       "<IPython.core.display.Markdown object>"
      ]
     },
     "metadata": {},
     "output_type": "display_data"
    },
    {
     "data": {
      "text/markdown": [
       "$H_0$ принимается"
      ],
      "text/plain": [
       "<IPython.core.display.Markdown object>"
      ]
     },
     "metadata": {},
     "output_type": "display_data"
    }
   ],
   "source": [
    "z, p_value = chisquare(X1, std0)\n",
    "\n",
    "mprint(\n",
    "    r\"### $\\chi^2$-test ($m$ неизвестно)\",\n",
    "    f\"$H_0: \\\\sigma_1 = \\\\sigma_0 = {std0:.2f}$\",\n",
    "    f\"$z_{{выб}} =$ {z:.2f}\",\n",
    "    f\"$p =$ {p_value:.2f}\",\n",
    "    verdict(alpha, p_value),\n",
    ")"
   ]
  },
  {
   "cell_type": "markdown",
   "metadata": {},
   "source": [
    "### Табличка"
   ]
  },
  {
   "cell_type": "markdown",
   "metadata": {},
   "source": [
    "| Тест                         | Статистическая гипотеза, $H_0$                 | Выборочное значение статистики критерия | p-value | Статистическое решение при $\\alpha = 0.05$ | Ошибка статистического решения |\n",
    "| ---------------------------- | ---------------------------------------------- | --------------------------------------- | ------- | ------------------------------------------ | ------------------------------ |\n",
    "| z-test                       | $m_1 = 4$($\\sigma$ известна)                   | -0.01                                   | 0.99    | $H_0$ принимается                          | Нет                            |\n",
    "| t-test                       | $m_1 = 4$($\\sigma$ неизвестна)                 | -0.01                                   | 0.99    | $H_0$ принимается                          | Нет                            |\n",
    "| $\\chi^2$-test ($m$ известно) | $\\sigma_1 = \\sqrt{\\frac{4}{3}}$ ($m$ известно) | 49.23                                   | 0.50    | $H_0$ принимается                          | Нет                            |\n",
    "| $\\chi^2$-test ($m$ неизвестно) | $\\sigma_1 = \\sqrt{\\frac{4}{3}}$ ($m$ неизвестно) | 49.23                                   | 0.46    | $H_0$ принимается                          | Нет                            |\n"
   ]
  },
  {
   "cell_type": "markdown",
   "metadata": {},
   "source": [
    "## 3. Двухвыборочные критерии"
   ]
  },
  {
   "cell_type": "markdown",
   "metadata": {},
   "source": [
    "### 2-sample t-test"
   ]
  },
  {
   "cell_type": "code",
   "execution_count": null,
   "metadata": {},
   "outputs": [
    {
     "data": {
      "text/markdown": [
       "### 2-sample t-test"
      ],
      "text/plain": [
       "<IPython.core.display.Markdown object>"
      ]
     },
     "metadata": {},
     "output_type": "display_data"
    },
    {
     "data": {
      "text/markdown": [
       "$H_0: m_1 = m_2$"
      ],
      "text/plain": [
       "<IPython.core.display.Markdown object>"
      ]
     },
     "metadata": {},
     "output_type": "display_data"
    },
    {
     "data": {
      "text/markdown": [
       "$z_{выб} =$ 0.62"
      ],
      "text/plain": [
       "<IPython.core.display.Markdown object>"
      ]
     },
     "metadata": {},
     "output_type": "display_data"
    },
    {
     "data": {
      "text/markdown": [
       "$p =$ 0.54"
      ],
      "text/plain": [
       "<IPython.core.display.Markdown object>"
      ]
     },
     "metadata": {},
     "output_type": "display_data"
    },
    {
     "data": {
      "text/markdown": [
       "$H_0$ принимается"
      ],
      "text/plain": [
       "<IPython.core.display.Markdown object>"
      ]
     },
     "metadata": {},
     "output_type": "display_data"
    }
   ],
   "source": [
    "z, p_value = stats.ttest_ind(X1, X2)\n",
    "\n",
    "mprint(\n",
    "    r\"### 2-sample t-test\",\n",
    "    f\"$H_0: m_1 = m_2$\",\n",
    "    f\"$z_{{выб}} =$ {z:.2f}\",\n",
    "    f\"$p =$ {p_value:.2f}\",\n",
    "    verdict(alpha, p_value)\n",
    ")"
   ]
  },
  {
   "cell_type": "markdown",
   "metadata": {},
   "source": [
    "### 2-sample F-test ($m$ известно)"
   ]
  },
  {
   "cell_type": "code",
   "execution_count": 140,
   "metadata": {},
   "outputs": [],
   "source": [
    "def Ftest(X1, X2, m1, m2):\n",
    "    n1 = len(X1)\n",
    "    n2 = len(X2)\n",
    "    z = S_0(X1, m1) / S_0(X2, m2)\n",
    "    cdf = stats.f.cdf(z, dfn=n1, dfd=n2)\n",
    "    p_value = 2 * min(cdf, 1 - cdf)\n",
    "    return z, p_value"
   ]
  },
  {
   "cell_type": "code",
   "execution_count": null,
   "metadata": {},
   "outputs": [
    {
     "data": {
      "text/markdown": [
       "### 2-sample F-test ($m$ известно)"
      ],
      "text/plain": [
       "<IPython.core.display.Markdown object>"
      ]
     },
     "metadata": {},
     "output_type": "display_data"
    },
    {
     "data": {
      "text/markdown": [
       "$H_0: \\sigma_1 = \\sigma_2$"
      ],
      "text/plain": [
       "<IPython.core.display.Markdown object>"
      ]
     },
     "metadata": {},
     "output_type": "display_data"
    },
    {
     "data": {
      "text/markdown": [
       "$z_{выб} =$ 0.78"
      ],
      "text/plain": [
       "<IPython.core.display.Markdown object>"
      ]
     },
     "metadata": {},
     "output_type": "display_data"
    },
    {
     "data": {
      "text/markdown": [
       "$p =$ 0.81"
      ],
      "text/plain": [
       "<IPython.core.display.Markdown object>"
      ]
     },
     "metadata": {},
     "output_type": "display_data"
    },
    {
     "data": {
      "text/markdown": [
       "$H_0$ принимается"
      ],
      "text/plain": [
       "<IPython.core.display.Markdown object>"
      ]
     },
     "metadata": {},
     "output_type": "display_data"
    }
   ],
   "source": [
    "z, p_value = Ftest(X1, X2, m0, m0)\n",
    "\n",
    "mprint(\n",
    "    r\"### 2-sample F-test ($m$ известно)\",\n",
    "    f\"$H_0: \\\\sigma_1 = \\\\sigma_2$\",\n",
    "    f\"$z_{{выб}} =$ {z:.2f}\",\n",
    "    f\"$p =$ {p_value:.2f}\",\n",
    "    verdict(alpha, p_value)\n",
    ")"
   ]
  },
  {
   "cell_type": "markdown",
   "metadata": {},
   "source": [
    "### 2-sample F-test ($m$ неизвестно)"
   ]
  },
  {
   "cell_type": "code",
   "execution_count": 138,
   "metadata": {},
   "outputs": [],
   "source": [
    "def Ftest(X1, X2):\n",
    "    n1 = len(X1)\n",
    "    n2 = len(X2)\n",
    "    z = X1.var(ddof=1) / X2.var(ddof=1)\n",
    "    cdf = stats.f.cdf(z, dfn=n1 - 1, dfd=n2 - 1)\n",
    "    p_value = 2 * min(cdf, 1 - cdf)\n",
    "    return z, p_value"
   ]
  },
  {
   "cell_type": "code",
   "execution_count": null,
   "metadata": {},
   "outputs": [
    {
     "data": {
      "text/markdown": [
       "### 2-sample F-test ($m$ неизвестно)"
      ],
      "text/plain": [
       "<IPython.core.display.Markdown object>"
      ]
     },
     "metadata": {},
     "output_type": "display_data"
    },
    {
     "data": {
      "text/markdown": [
       "$H_0: \\sigma_1 = \\sigma_2$"
      ],
      "text/plain": [
       "<IPython.core.display.Markdown object>"
      ]
     },
     "metadata": {},
     "output_type": "display_data"
    },
    {
     "data": {
      "text/markdown": [
       "$z_{выб} =$ 0.77"
      ],
      "text/plain": [
       "<IPython.core.display.Markdown object>"
      ]
     },
     "metadata": {},
     "output_type": "display_data"
    },
    {
     "data": {
      "text/markdown": [
       "$p =$ 0.82"
      ],
      "text/plain": [
       "<IPython.core.display.Markdown object>"
      ]
     },
     "metadata": {},
     "output_type": "display_data"
    },
    {
     "data": {
      "text/markdown": [
       "$H_0$ принимается"
      ],
      "text/plain": [
       "<IPython.core.display.Markdown object>"
      ]
     },
     "metadata": {},
     "output_type": "display_data"
    }
   ],
   "source": [
    "z, p_value = Ftest(X1, X2)\n",
    "\n",
    "mprint(\n",
    "    r\"### 2-sample F-test ($m$ неизвестно)\",\n",
    "    f\"$H_0: \\\\sigma_1 = \\\\sigma_2$\",\n",
    "    f\"$z_{{выб}} =$ {z:.2f}\",\n",
    "    f\"$p =$ {p_value:.2f}\",\n",
    "    verdict(alpha, p_value)\n",
    ")"
   ]
  },
  {
   "cell_type": "markdown",
   "metadata": {},
   "source": [
    "### Табличка"
   ]
  },
  {
   "cell_type": "markdown",
   "metadata": {},
   "source": [
    "| Тест                             | Статистическая гипотеза, $H_0$ | Выборочное значение статистики критерия | p-value | Статистическое решение при $\\alpha = 0.05$ | Ошибка статистического решения |\n",
    "| -------------------------------- | ------------------------------ | --------------------------------------- | ------- | ------------------------------------------ | ------------------------------ |\n",
    "| 2-sample t-test                  | $m_1 = m_2$                    | 0.62                                    | 0.54    | $H_0$ принимается                          | Нет                            |\n",
    "| 2-sample F-test ($m$ известно)   | $\\sigma_1 = \\sigma_2$          | 0.78                                    | 0.81    | $H_0$ принимается                          | Нет                            |\n",
    "| 2-sample F-test ($m$ неизвестно) | $\\sigma_1 = \\sigma_2$          | 0.77                                    | 0.82    | $H_0$ принимается                          | Нет                            |"
   ]
  },
  {
   "cell_type": "markdown",
   "metadata": {},
   "source": [
    "## 4. Исследование распределений статистик критерия"
   ]
  },
  {
   "cell_type": "markdown",
   "metadata": {},
   "source": [
    "Статистическая гипотеза $H_0$: $m_1 = 4 \\ (\\sigma_1\\text{ - известна})$\n",
    "\n",
    "Формула расчёта статистики критерия $Z$: $Z = \\dfrac{\\overline{X} - m_0}{\\frac{\\sigma}{\\sqrt{n}}}$\n",
    "\n",
    "Формула расчёта статистики $P$-value: $p = 2\\min(F_Z(z_{выб} \\mid H_0), 1 - F_Z(z_{выб} \\mid H_0))$\n",
    "\n",
    "Число серий экспериментов $N = 1000$"
   ]
  },
  {
   "cell_type": "markdown",
   "metadata": {},
   "source": [
    "### Теоретические характеристики:"
   ]
  },
  {
   "cell_type": "markdown",
   "metadata": {},
   "source": [
    "| СВ           | Распределение в условиях $H_0$ | Параметры | Математическое ожидание | Дисперсия    | С.к.о |\n",
    "| ------------ | ------------------------------ | --------- | ----------------------- | ------------ | ----- |\n",
    "| $\\mathbf{Z}$ | N(0, 1)                        |           | 0                       | 1            | 1     |\n",
    "| $P$-value    | R(0, 1)                        |           | $\\frac{1}{2}$           | $\\frac{1}{12} \\sim 0.083$ | $\\frac{1}{\\sqrt{12}} \\sim 0.288 $ |\n"
   ]
  },
  {
   "cell_type": "markdown",
   "metadata": {},
   "source": [
    "### Выборочные характеристики"
   ]
  },
  {
   "cell_type": "code",
   "execution_count": null,
   "metadata": {},
   "outputs": [
    {
     "data": {
      "text/markdown": [
       "$\\mathbf{Z}$: [-1.37 -0.44  1.63 -1.19  0.08  1.54  0.88  0.07 -0.87  0.9 ]"
      ],
      "text/plain": [
       "<IPython.core.display.Markdown object>"
      ]
     },
     "metadata": {},
     "output_type": "display_data"
    },
    {
     "data": {
      "text/markdown": [
       "$\\mathbf{P-value}$: [0.17 0.66 0.1  0.23 0.94 0.12 0.38 0.94 0.39 0.37]"
      ],
      "text/plain": [
       "<IPython.core.display.Markdown object>"
      ]
     },
     "metadata": {},
     "output_type": "display_data"
    }
   ],
   "source": [
    "N = 1000\n",
    "Z = np.empty(N)\n",
    "P = np.empty(N)\n",
    "for i in range(N):\n",
    "    X = np.random.uniform(a1, b1, n1)\n",
    "    z, p_value = ztest(X, m0, std0)\n",
    "    Z[i] = z\n",
    "    P[i] = p_value\n",
    "\n",
    "mprint(f\"$\\\\mathbf{{Z}}$: {Z[:10].round(2)}\")\n",
    "mprint(f\"$\\\\mathbf{{P-value}}$: {P[:10].round(2)}\")"
   ]
  },
  {
   "cell_type": "code",
   "execution_count": null,
   "metadata": {},
   "outputs": [
    {
     "data": {
      "text/markdown": [
       "$\\overline{Z} =$ -0.03, $s_Z^2 =$ 1.05, $s_Z$ = 1.03"
      ],
      "text/plain": [
       "<IPython.core.display.Markdown object>"
      ]
     },
     "metadata": {},
     "output_type": "display_data"
    },
    {
     "data": {
      "text/markdown": [
       "$\\overline{P-value} =$ 0.49, $s_P^2 =$ 0.08, $s_P$ = 0.29"
      ],
      "text/plain": [
       "<IPython.core.display.Markdown object>"
      ]
     },
     "metadata": {},
     "output_type": "display_data"
    }
   ],
   "source": [
    "mean_z = Z.mean()\n",
    "sz = Z.std(ddof=1)\n",
    "Sz = Z.var(ddof=1)\n",
    "\n",
    "mean_p = P.mean()\n",
    "sp = P.std(ddof=1)\n",
    "Sp = P.var(ddof=1)\n",
    "\n",
    "mprint(\n",
    "    f\"$\\\\overline{{Z}} =$ {mean_z:.2f}, $s_Z^2 =$ {Sz:.2f}, $s_Z$ = {sz:.2f}\"\n",
    ")\n",
    "mprint(\n",
    "    f\"$\\\\overline{{P-value}} =$ {mean_p:.2f}, $s_P^2 =$ {Sp:.2f}, $s_P$ = {sp:.2f}\"\n",
    ")"
   ]
  },
  {
   "cell_type": "markdown",
   "metadata": {},
   "source": [
    "| СВ           | Среднее | Оценка дисперсии | Оценка с.к.о. |\n",
    "| ------------ | ------- | ---------------- | ------------- |\n",
    "| $\\mathbf{Z}$ | -0.03   | 1.05             | 1.03          |\n",
    "| $P$-value    | 0.49    | 0.08             | 0.29          |\n"
   ]
  },
  {
   "cell_type": "markdown",
   "metadata": {},
   "source": [
    "### Графики"
   ]
  },
  {
   "cell_type": "code",
   "execution_count": null,
   "metadata": {},
   "outputs": [
    {
     "data": {
      "image/png": "[encoded data removed]",
      "text/plain": [
       "<Figure size 800x550 with 1 Axes>"
      ]
     },
     "metadata": {},
     "output_type": "display_data"
    }
   ],
   "source": [
    "X = np.linspace(-5, 5, 1000)\n",
    "standard = stats.norm(loc=0, scale=1)\n",
    "pdf = standard.pdf(X)\n",
    "\n",
    "plt.plot(X, pdf, lw=3)\n",
    "\n",
    "plt.hist(Z, bins=30, density=True)\n",
    "\n",
    "plt.ylabel(r\"$f_Z(z \\mid H0),\\ \\frac{n_i}{n}$\", fontsize=14)\n",
    "plt.xlabel(\"$z$\", fontsize=14)\n",
    "\n",
    "plt.show()"
   ]
  },
  {
   "cell_type": "code",
   "execution_count": null,
   "metadata": {},
   "outputs": [
    {
     "data": {
      "image/png": "[encoded data removed]",
      "text/plain": [
       "<Figure size 800x550 with 1 Axes>"
      ]
     },
     "metadata": {},
     "output_type": "display_data"
    }
   ],
   "source": [
    "X = np.linspace(-0.5, 1.5, 1000)\n",
    "uniform = stats.uniform(loc=0, scale=1)\n",
    "pdf = uniform.pdf(X)\n",
    "\n",
    "plt.plot(X, pdf, lw=3)\n",
    "\n",
    "plt.hist(P, bins=20, density=True)\n",
    "\n",
    "plt.ylabel(r\"$f_P(p \\mid H0),\\ \\frac{n_i}{n}$\", fontsize=14)\n",
    "plt.xlabel(\"$p$\", fontsize=14)\n",
    "\n",
    "plt.show()"
   ]
  }
 ],
 "metadata": {
  "kernelspec": {
   "display_name": ".venv",
   "language": "python",
   "name": "python3"
  },
  "language_info": {
   "codemirror_mode": {
    "name": "ipython",
    "version": 3
   },
   "file_extension": ".py",
   "mimetype": "text/x-python",
   "name": "python",
   "nbconvert_exporter": "python",
   "pygments_lexer": "ipython3",
   "version": "3.13.0"
  }
 },
 "nbformat": 4,
 "nbformat_minor": 2
}
