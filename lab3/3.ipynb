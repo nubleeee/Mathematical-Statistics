{
 "cells": [
  {
   "cell_type": "markdown",
   "metadata": {},
   "source": [
    "# Лабораторная работа №3"
   ]
  },
  {
   "cell_type": "markdown",
   "metadata": {},
   "source": [
    "## Условие\n",
    "\n",
    "Вариант №2\n",
    "\n",
    "Распределения:\n",
    "\n",
    "$$\\mathbf{X_1} \\sim R(2, 6)$$\n",
    "$$\\mathbf{X_2} \\sim R(2, 6)$$\n",
    "$$\\mathbf{X_3} \\sim R(0, 8)$$\n",
    "$$\\mathbf{X_4} \\sim N(4, 1)$$\n",
    "\n",
    "\n",
    "Объёмы выборок:\n",
    "\n",
    "$$ n_1 = 100$$\n",
    "$$ n_2 = 250$$\n",
    "$$ n_3 = 100$$\n",
    "$$ n_4 = 100$$"
   ]
  },
  {
   "cell_type": "markdown",
   "metadata": {},
   "source": [
    "## Импорты"
   ]
  },
  {
   "cell_type": "code",
   "execution_count": 62,
   "metadata": {},
   "outputs": [],
   "source": [
    "import numpy as np\n",
    "import matplotlib.pyplot as plt\n",
    "from math import sqrt\n",
    "from scipy import stats\n",
    "from time import time\n",
    "from IPython.display import display, Markdown  # для вывода формул в консоль\n",
    "import pandas as pd\n",
    "from statsmodels.stats.multicomp import pairwise_tukeyhsd"
   ]
  },
  {
   "cell_type": "markdown",
   "metadata": {},
   "source": [
    "## Определения"
   ]
  },
  {
   "cell_type": "code",
   "execution_count": 2,
   "metadata": {},
   "outputs": [],
   "source": [
    "a1, b1, n1 = 2, 6, 100\n",
    "a2, b2, n2 = 2, 6, 250\n",
    "a3, b3, n3 = 0, 8, 100\n",
    "m4, std4, n4 = 4, 1, 100"
   ]
  },
  {
   "cell_type": "code",
   "execution_count": 7,
   "metadata": {},
   "outputs": [],
   "source": [
    "def mprint(*strings):\n",
    "    for s in strings:\n",
    "        display(Markdown(s))\n",
    "\n",
    "\n",
    "np.random.seed(int(time()))\n",
    "plt.rc(\"text\", usetex=True)\n",
    "plt.rc(\n",
    "    \"text.latex\",\n",
    "    preamble=r\"\"\"\n",
    "\\usepackage[english, russian]{babel}\n",
    "\\usepackage[utf8]{inputenc}\n",
    "\"\"\",\n",
    ")\n",
    "plt.style.use(\"seaborn-v0_8\")"
   ]
  },
  {
   "cell_type": "code",
   "execution_count": 8,
   "metadata": {},
   "outputs": [],
   "source": [
    "alpha = 0.05\n",
    "\n",
    "\n",
    "def verdict(alpha, p_value):\n",
    "    if alpha > p_value:\n",
    "        return \"$H_0$ отклоняется\"\n",
    "    else:\n",
    "        return \"$H_0$ принимается\""
   ]
  },
  {
   "cell_type": "markdown",
   "metadata": {},
   "source": [
    "## 1. Исходные данные"
   ]
  },
  {
   "cell_type": "markdown",
   "metadata": {},
   "source": [
    "### Характеристики наблюдаемых случайных величин"
   ]
  },
  {
   "cell_type": "markdown",
   "metadata": {},
   "source": [
    "| СВ             | Распределение | Параметры               | Математическое ожидание, $m_i$   | Дисперсия, $\\sigma_i^2$                                  | Объём выборки, $n_i$ |\n",
    "| -------------- | ------------- | ----------------------- | -------------------------------- | -------------------------------------------------------- | -------------------- |\n",
    "| $\\mathbf{X_1}$ | $R(2, 6)$     | $a_1 = 2, b_1 = 6$      | $m_1 = \\dfrac{a_1 + b_1}{2} = 4$ | $\\sigma_1^2 = \\dfrac{(b_1 - a_1)^2}{12} = \\dfrac{4}{3}$  | 100                  |\n",
    "| $\\mathbf{X_2}$ | $R(2, 6)$     | $a_2 = 2, b_2 = 6$      | $m_2 = \\dfrac{a_2 + b_2}{2} = 4$ | $\\sigma_2^2 = \\dfrac{(b_2 - a_2)^2}{12} = \\dfrac{4}{3}$  | 250                  |\n",
    "| $\\mathbf{X_3}$ | $R(0, 8)$     | $a_3 = 0, b_3 = 8$      | $m_3 = \\dfrac{a_3 + b_3}{2} = 4$ | $\\sigma_3^2 = \\dfrac{(b_3 - a_3)^2}{12} = \\dfrac{16}{3}$ | 100                  |\n",
    "| $\\mathbf{X_4}$ | $N(4, 1)$     | $m_4 = 4, \\sigma_4 = 1$ | $m_4 = 4$                        | $\\sigma_4^2 = 1$                                         | 100                  |\n"
   ]
  },
  {
   "cell_type": "code",
   "execution_count": 28,
   "metadata": {},
   "outputs": [
    {
     "data": {
      "text/markdown": [
       "$X_1$: [5.84 3.14 3.55 4.82 4.37 4.18 4.25 4.81 4.53 5.46]"
      ],
      "text/plain": [
       "<IPython.core.display.Markdown object>"
      ]
     },
     "metadata": {},
     "output_type": "display_data"
    },
    {
     "data": {
      "text/markdown": [
       "$X_2$: [5.04 4.04 3.21 2.67 4.17 5.05 3.07 2.93 2.43 3.48]"
      ],
      "text/plain": [
       "<IPython.core.display.Markdown object>"
      ]
     },
     "metadata": {},
     "output_type": "display_data"
    },
    {
     "data": {
      "text/markdown": [
       "$X_3$: [2.55 3.59 4.31 1.13 3.19 3.92 2.19 3.82 1.18 5.14]"
      ],
      "text/plain": [
       "<IPython.core.display.Markdown object>"
      ]
     },
     "metadata": {},
     "output_type": "display_data"
    },
    {
     "data": {
      "text/markdown": [
       "$X_4$: [3.27 4.13 5.69 2.68 3.37 4.63 5.41 2.83 2.75 3.91]"
      ],
      "text/plain": [
       "<IPython.core.display.Markdown object>"
      ]
     },
     "metadata": {},
     "output_type": "display_data"
    }
   ],
   "source": [
    "k = 4\n",
    "\n",
    "X1 = np.random.uniform(a1, b1, n1)\n",
    "X2 = np.random.uniform(a2, b2, n2)\n",
    "X3 = np.random.uniform(a3, b3, n3)\n",
    "X4 = np.random.normal(m4, std4, n4)\n",
    "\n",
    "X = [X1, X2, X3, X4]\n",
    "n = [n1, n2, n3, n4]\n",
    "\n",
    "mprint(f\"$X_1$: {X1[:10].round(2)}\")\n",
    "mprint(f\"$X_2$: {X2[:10].round(2)}\")\n",
    "mprint(f\"$X_3$: {X3[:10].round(2)}\")\n",
    "mprint(f\"$X_4$: {X4[:10].round(2)}\")"
   ]
  },
  {
   "cell_type": "markdown",
   "metadata": {},
   "source": [
    "### Выборочные характеристики"
   ]
  },
  {
   "cell_type": "code",
   "execution_count": null,
   "metadata": {},
   "outputs": [
    {
     "data": {
      "text/markdown": [
       "$\\overline{x_1} =$ 3.99, $s_1^2 =$ 1.23, $s_1$ = 1.11"
      ],
      "text/plain": [
       "<IPython.core.display.Markdown object>"
      ]
     },
     "metadata": {},
     "output_type": "display_data"
    },
    {
     "data": {
      "text/markdown": [
       "$\\overline{x_2} =$ 4.04, $s_2^2 =$ 1.37, $s_2$ = 1.17"
      ],
      "text/plain": [
       "<IPython.core.display.Markdown object>"
      ]
     },
     "metadata": {},
     "output_type": "display_data"
    },
    {
     "data": {
      "text/markdown": [
       "$\\overline{x_3} =$ 3.90, $s_3^2 =$ 5.22, $s_3$ = 2.28"
      ],
      "text/plain": [
       "<IPython.core.display.Markdown object>"
      ]
     },
     "metadata": {},
     "output_type": "display_data"
    },
    {
     "data": {
      "text/markdown": [
       "$\\overline{x_4} =$ 4.16, $s_4^2 =$ 1.02, $s_4$ = 1.01"
      ],
      "text/plain": [
       "<IPython.core.display.Markdown object>"
      ]
     },
     "metadata": {},
     "output_type": "display_data"
    },
    {
     "data": {
      "text/markdown": [
       "$\\overline{x_{pooled}} =$ 4.03, $s_{pooled}^2 =$ 1.97, $s_{pooled}$ = 1.41"
      ],
      "text/plain": [
       "<IPython.core.display.Markdown object>"
      ]
     },
     "metadata": {},
     "output_type": "display_data"
    }
   ],
   "source": [
    "mean1 = X1.mean()\n",
    "S1 = X1.var(ddof=1)\n",
    "s1 = X1.std(ddof=1)\n",
    "\n",
    "mean2 = X2.mean()\n",
    "S2 = X2.var(ddof=1)\n",
    "s2 = X2.std(ddof=1)\n",
    "\n",
    "mean3 = X3.mean()\n",
    "S3 = X3.var(ddof=1)\n",
    "s3 = X3.std(ddof=1)\n",
    "\n",
    "mean4 = X4.mean()\n",
    "S4 = X4.var(ddof=1)\n",
    "s4 = X4.std(ddof=1)\n",
    "\n",
    "X_pooled = np.concatenate(X)\n",
    "n_pooled = sum(n)\n",
    "\n",
    "mean_pooled = X_pooled.mean()\n",
    "S_pooled = X_pooled.var(ddof=1)\n",
    "s_pooled = X_pooled.std(ddof=1)\n",
    "\n",
    "mprint(f\"$\\\\overline{{x_1}} =$ {mean1:.2f}, $s_1^2 =$ {S1:.2f}, $s_1$ = {s1:.2f}\")\n",
    "mprint(f\"$\\\\overline{{x_2}} =$ {mean2:.2f}, $s_2^2 =$ {S2:.2f}, $s_2$ = {s2:.2f}\")\n",
    "mprint(f\"$\\\\overline{{x_3}} =$ {mean3:.2f}, $s_3^2 =$ {S3:.2f}, $s_3$ = {s3:.2f}\")\n",
    "mprint(f\"$\\\\overline{{x_4}} =$ {mean4:.2f}, $s_4^2 =$ {S4:.2f}, $s_4$ = {s4:.2f}\")\n",
    "mprint(\n",
    "    f\"$\\\\overline{{x_{{pooled}}}} =$ {mean_pooled:.2f}, $s_{{pooled}}^2 =$ {S_pooled:.2f}, $s_{{pooled}}$ = {s_pooled:.2f}\"\n",
    ")"
   ]
  },
  {
   "cell_type": "markdown",
   "metadata": {},
   "source": [
    "| СВ            | Среднее, $\\overline{x_i}$ | Оценка дисперсии, $s_i^2$ | Оценка с.к.о., $s_i$ |\n",
    "| ------------- | ------------------------- | ------------------------- | -------------------- |\n",
    "| $\\mathbf{X1}$ | 3.99                      | 1.23                      | 1.11                 |\n",
    "| $\\mathbf{X2}$ | 4.04                      | 1.37                      | 1.17                 |\n",
    "| $\\mathbf{X3}$ | 3.90                      | 5.22                      | 2.28                 |\n",
    "| $\\mathbf{X4}$ | 4.16                      | 1.02                      | 1.01                 |\n",
    "| Pooled        | 4.03                      | 1.97                      | 1.41                 |"
   ]
  },
  {
   "cell_type": "markdown",
   "metadata": {},
   "source": [
    "## 2. Визуальное представление выборки"
   ]
  },
  {
   "cell_type": "code",
   "execution_count": null,
   "metadata": {},
   "outputs": [
    {
     "data": {
      "image/png": "[encoded data removed]",
      "text/plain": [
       "<Figure size 800x550 with 1 Axes>"
      ]
     },
     "metadata": {},
     "output_type": "display_data"
    }
   ],
   "source": [
    "plt.boxplot(\n",
    "    X,\n",
    "    tick_labels=[r\"$X_1$\", r\"$X_2$\", r\"$X_3$\", r\"$X_4$\"],\n",
    "    vert=False,\n",
    "    boxprops=dict(color=\"black\"),\n",
    "    whiskerprops=dict(color=\"black\"),\n",
    "    capprops=dict(color=\"black\"),\n",
    "    flierprops=dict(markeredgecolor=\"black\"),\n",
    ")\n",
    "\n",
    "plt.title(\"Диаграммы Box-and-Whisker\")\n",
    "plt.show()"
   ]
  },
  {
   "cell_type": "markdown",
   "metadata": {},
   "source": [
    "## 3. Проверка условия применимости дисперсионного анализа"
   ]
  },
  {
   "cell_type": "markdown",
   "metadata": {},
   "source": [
    "Статистическая гипотеза: $H_0: \\sigma_1^2 = \\sigma_2^2 = \\sigma_3^2 = \\sigma_4^2$"
   ]
  },
  {
   "cell_type": "code",
   "execution_count": 35,
   "metadata": {},
   "outputs": [
    {
     "data": {
      "text/markdown": [
       "### Bartlett’s test"
      ],
      "text/plain": [
       "<IPython.core.display.Markdown object>"
      ]
     },
     "metadata": {},
     "output_type": "display_data"
    },
    {
     "data": {
      "text/markdown": [
       "$H_0: \\sigma_1^2 = \\sigma_2^2 = \\sigma_3^2 = \\sigma_4^2$"
      ],
      "text/plain": [
       "<IPython.core.display.Markdown object>"
      ]
     },
     "metadata": {},
     "output_type": "display_data"
    },
    {
     "data": {
      "text/markdown": [
       "$z_{выб} =$ 107.99"
      ],
      "text/plain": [
       "<IPython.core.display.Markdown object>"
      ]
     },
     "metadata": {},
     "output_type": "display_data"
    },
    {
     "data": {
      "text/markdown": [
       "$p =$ 0.00"
      ],
      "text/plain": [
       "<IPython.core.display.Markdown object>"
      ]
     },
     "metadata": {},
     "output_type": "display_data"
    },
    {
     "data": {
      "text/markdown": [
       "$H_0$ отклоняется"
      ],
      "text/plain": [
       "<IPython.core.display.Markdown object>"
      ]
     },
     "metadata": {},
     "output_type": "display_data"
    }
   ],
   "source": [
    "z, p_value = stats.bartlett(X1, X2, X3, X4)\n",
    "\n",
    "mprint(\n",
    "    r\"### Bartlett’s test\",\n",
    "    f\"$H_0: \\\\sigma_1^2 = \\\\sigma_2^2 = \\\\sigma_3^2 = \\\\sigma_4^2$\",\n",
    "    f\"$z_{{выб}} =$ {z:.2f}\",\n",
    "    f\"$p =$ {p_value:.2f}\",\n",
    "    verdict(alpha, p_value),\n",
    ")"
   ]
  },
  {
   "cell_type": "markdown",
   "metadata": {},
   "source": [
    "Критерий Бартлетта:\n",
    "| Выборочное значение статистики критерия | p-value | Статистическое решение при $\\alpha = 0.05$ | Ошибка статистического решения |\n",
    "| --------------------------------------- | ------- | ------------------------------------------ | ------------------------------ |\n",
    "| 107.99                                  | 0.00    | $H_0$ отклоняется                          | Нет                            |"
   ]
  },
  {
   "cell_type": "markdown",
   "metadata": {},
   "source": [
    "## 4. Однофакторный дисперсионный анализ"
   ]
  },
  {
   "cell_type": "code",
   "execution_count": 47,
   "metadata": {},
   "outputs": [
    {
     "data": {
      "text/markdown": [
       "$\\tilde{D}_{\\text{межгр}} = 0.01$"
      ],
      "text/plain": [
       "<IPython.core.display.Markdown object>"
      ]
     },
     "metadata": {},
     "output_type": "display_data"
    },
    {
     "data": {
      "text/markdown": [
       "$\\tilde{D}_{\\text{внутр}} = 1.96$"
      ],
      "text/plain": [
       "<IPython.core.display.Markdown object>"
      ]
     },
     "metadata": {},
     "output_type": "display_data"
    },
    {
     "data": {
      "text/markdown": [
       "$\\tilde{D}_{\\text{общ}} = 1.97$"
      ],
      "text/plain": [
       "<IPython.core.display.Markdown object>"
      ]
     },
     "metadata": {},
     "output_type": "display_data"
    },
    {
     "data": {
      "text/markdown": [
       "$\\tilde{D}_{\\text{межгр, несмещ}} = 1.19$"
      ],
      "text/plain": [
       "<IPython.core.display.Markdown object>"
      ]
     },
     "metadata": {},
     "output_type": "display_data"
    },
    {
     "data": {
      "text/markdown": [
       "$\\tilde{D}_{\\text{внутр, несмещ}} = 1.98$"
      ],
      "text/plain": [
       "<IPython.core.display.Markdown object>"
      ]
     },
     "metadata": {},
     "output_type": "display_data"
    },
    {
     "data": {
      "text/markdown": [
       "$\\tilde{D}_{\\text{общ, несмещ}} = 1.97$"
      ],
      "text/plain": [
       "<IPython.core.display.Markdown object>"
      ]
     },
     "metadata": {},
     "output_type": "display_data"
    }
   ],
   "source": [
    "S_general = X_pooled.var()\n",
    "S_inside = 1 / n_pooled * sum([n[i] * X[i].var() for i in range(k)])\n",
    "S_between = S_general - S_inside\n",
    "\n",
    "S_general_unbiased = S_general * n_pooled / (n_pooled - 1)\n",
    "S_inside_unbiased = S_inside * n_pooled / (n_pooled - k)\n",
    "S_between_unbiased = S_between * n_pooled / (k - 1)\n",
    "\n",
    "mprint(\n",
    "    f\"$\\\\tilde{{D}}_{{\\\\text{{межгр}}}} = {S_between:.2f}$\",\n",
    "    f\"$\\\\tilde{{D}}_{{\\\\text{{внутр}}}} = {S_inside:.2f}$\",\n",
    "    f\"$\\\\tilde{{D}}_{{\\\\text{{общ}}}} = {S_general:.2f}$\",\n",
    "    f\"$\\\\tilde{{D}}_{{\\\\text{{межгр, несмещ}}}} = {S_between_unbiased:.2f}$\",\n",
    "    f\"$\\\\tilde{{D}}_{{\\\\text{{внутр, несмещ}}}} = {S_inside_unbiased:.2f}$\",\n",
    "    f\"$\\\\tilde{{D}}_{{\\\\text{{общ, несмещ}}}} = {S_general_unbiased:.2f}$\",\n",
    ")"
   ]
  },
  {
   "cell_type": "markdown",
   "metadata": {},
   "source": [
    "Таблица дисперсионного анализа:\n",
    "\n",
    "| Источник вариации      | Показатель вариации               | Число степеней свободы | Несмещённая оценка                                |\n",
    "| ---------------------- | --------------------------------- | ---------------------- | ------------------------------------------------- |\n",
    "| Группировочный признак | $\\tilde{D}_{\\text{межгр}} = 0.01$ | $k - 1 = 3$            | $\\dfrac{n}{k - 1}\\tilde{D}_{\\text{межгр}} = 1.19$ |\n",
    "| Остаточные факторы     | $\\tilde{D}_{\\text{внутр}} = 1.96$ | $n - k = 546$          | $\\dfrac{n}{n - k}\\tilde{D}_{\\text{внутр}} = 1.98$ |\n",
    "| Все факторы            | $\\tilde{D}_{\\text{общ}} = 1.97$   | $n - 1 = 549$          | $\\dfrac{n}{n - 1}\\tilde{D}_{\\text{общ}} = 1.97$   |"
   ]
  },
  {
   "cell_type": "code",
   "execution_count": 49,
   "metadata": {},
   "outputs": [
    {
     "data": {
      "text/markdown": [
       "$\\tilde{\\eta^2} = 0.00$"
      ],
      "text/plain": [
       "<IPython.core.display.Markdown object>"
      ]
     },
     "metadata": {},
     "output_type": "display_data"
    },
    {
     "data": {
      "text/markdown": [
       "$\\tilde{\\eta} = 0.06$"
      ],
      "text/plain": [
       "<IPython.core.display.Markdown object>"
      ]
     },
     "metadata": {},
     "output_type": "display_data"
    }
   ],
   "source": [
    "eta_squared = S_between / S_general\n",
    "\n",
    "eta = sqrt(eta_squared)\n",
    "\n",
    "mprint(\n",
    "    f\"$\\\\tilde{{\\\\eta^2}} = {eta_squared:.2f}$\",\n",
    "    f\"$\\\\tilde{{\\\\eta}} = {eta:.2f}$\",\n",
    ")"
   ]
  },
  {
   "cell_type": "markdown",
   "metadata": {},
   "source": [
    "Эмпирирический коэффициент детерминации $\\tilde{\\eta^2} = \\dfrac{\\tilde{D}_{\\text{межгр}}}{\\tilde{D}_{\\text{общ}}} = 0.00$\n",
    "\n",
    "Эмпирическое корреляционное отношение $\\tilde{\\eta} = \\sqrt{\\tilde{\\eta^2}} = 0.06$"
   ]
  },
  {
   "cell_type": "markdown",
   "metadata": {},
   "source": [
    "Статистическая гипотеза: $H_0: m_1 = m_2 = m_3 = m_4$"
   ]
  },
  {
   "cell_type": "code",
   "execution_count": 56,
   "metadata": {},
   "outputs": [
    {
     "data": {
      "text/markdown": [
       "### ANOVA"
      ],
      "text/plain": [
       "<IPython.core.display.Markdown object>"
      ]
     },
     "metadata": {},
     "output_type": "display_data"
    },
    {
     "data": {
      "text/markdown": [
       "$H_0: m_1 = m_2 = m_3 = m_4$"
      ],
      "text/plain": [
       "<IPython.core.display.Markdown object>"
      ]
     },
     "metadata": {},
     "output_type": "display_data"
    },
    {
     "data": {
      "text/markdown": [
       "$z_{выб} = 0.60$"
      ],
      "text/plain": [
       "<IPython.core.display.Markdown object>"
      ]
     },
     "metadata": {},
     "output_type": "display_data"
    },
    {
     "data": {
      "text/markdown": [
       "$p = 0.61$"
      ],
      "text/plain": [
       "<IPython.core.display.Markdown object>"
      ]
     },
     "metadata": {},
     "output_type": "display_data"
    },
    {
     "data": {
      "text/markdown": [
       "$H_0$ принимается"
      ],
      "text/plain": [
       "<IPython.core.display.Markdown object>"
      ]
     },
     "metadata": {},
     "output_type": "display_data"
    }
   ],
   "source": [
    "# можно использовать функцию f_oneway, но критерий простой и я напишу его сам\n",
    "\n",
    "z = S_between_unbiased / S_inside_unbiased\n",
    "p_value = stats.f.sf(z, k - 1, n_pooled - k)\n",
    "\n",
    "mprint(\n",
    "    r\"### ANOVA\",\n",
    "    f\"$H_0: m_1 = m_2 = m_3 = m_4$\",\n",
    "    f\"$z_{{выб}} = {z:.2f}$\",\n",
    "    f\"$p = {p_value:.2f}$\",\n",
    "    verdict(alpha, p_value),\n",
    ")"
   ]
  },
  {
   "cell_type": "markdown",
   "metadata": {},
   "source": [
    "| Выборочное значение статистики критерия | p-value | Статистическое решение при $\\alpha = 0.05$ | Ошибка статистического решения |\n",
    "| --------------------------------------- | ------- | ------------------------------------------ | ------------------------------ |\n",
    "| 0.60                                    | 0.61    | $H_0$ принимается                          | Нет                            |"
   ]
  },
  {
   "cell_type": "markdown",
   "metadata": {},
   "source": [
    "## Метод линейных контрастов"
   ]
  },
  {
   "cell_type": "markdown",
   "metadata": {},
   "source": [
    "### Доверительные интервалы для $m_1, \\dots, m_k$"
   ]
  },
  {
   "cell_type": "code",
   "execution_count": 66,
   "metadata": {},
   "outputs": [
    {
     "data": {
      "text/html": [
       "<div>\n",
       "<style scoped>\n",
       "    .dataframe tbody tr th:only-of-type {\n",
       "        vertical-align: middle;\n",
       "    }\n",
       "\n",
       "    .dataframe tbody tr th {\n",
       "        vertical-align: top;\n",
       "    }\n",
       "\n",
       "    .dataframe thead th {\n",
       "        text-align: right;\n",
       "    }\n",
       "</style>\n",
       "<table border=\"1\" class=\"dataframe\">\n",
       "  <thead>\n",
       "    <tr style=\"text-align: right;\">\n",
       "      <th></th>\n",
       "      <th>$X_1$</th>\n",
       "      <th>$X_2$</th>\n",
       "      <th>$X_3$</th>\n",
       "      <th>$X_4$</th>\n",
       "    </tr>\n",
       "  </thead>\n",
       "  <tbody>\n",
       "    <tr>\n",
       "      <th>Нижняя граница</th>\n",
       "      <td>3.767396</td>\n",
       "      <td>3.898235</td>\n",
       "      <td>3.448962</td>\n",
       "      <td>3.960250</td>\n",
       "    </tr>\n",
       "    <tr>\n",
       "      <th>Верхняя граница</th>\n",
       "      <td>4.206900</td>\n",
       "      <td>4.189947</td>\n",
       "      <td>4.355526</td>\n",
       "      <td>4.360814</td>\n",
       "    </tr>\n",
       "  </tbody>\n",
       "</table>\n",
       "</div>"
      ],
      "text/plain": [
       "                    $X_1$     $X_2$     $X_3$     $X_4$\n",
       "Нижняя граница   3.767396  3.898235  3.448962  3.960250\n",
       "Верхняя граница  4.206900  4.189947  4.355526  4.360814"
      ]
     },
     "execution_count": 66,
     "metadata": {},
     "output_type": "execute_result"
    }
   ],
   "source": [
    "intervals = pd.DataFrame(index=[\"Нижняя граница\", \"Верхняя граница\"])\n",
    "for data, N, i in zip(X, n, range(1, k + 1)):\n",
    "    std_err = stats.sem(data)\n",
    "    intervals[f\"$X_{i}$\"] = stats.t.interval(\n",
    "        1 - alpha, df=N - 1, loc=np.mean(data), scale=std_err\n",
    "    )\n",
    "\n",
    "intervals"
   ]
  },
  {
   "cell_type": "code",
   "execution_count": 79,
   "metadata": {},
   "outputs": [
    {
     "data": {
      "image/png": "[encoded data removed]",
      "text/plain": [
       "<Figure size 800x550 with 1 Axes>"
      ]
     },
     "metadata": {},
     "output_type": "display_data"
    }
   ],
   "source": [
    "for interval, y in zip(intervals.columns, range(1, k + 1)):\n",
    "    plt.errorbar(\n",
    "        intervals[interval].mean(),\n",
    "        y,\n",
    "        xerr=(intervals[interval].mean() - intervals[interval].iloc[0]),\n",
    "        fmt=\"o\",\n",
    "        label=f\"$m_{y}$\",\n",
    "    )\n",
    "\n",
    "plt.yticks(range(1, k + 1), [f\"$X_{i}$\" for i in range(1, k + 1)])\n",
    "plt.legend(loc=\"upper left\")\n",
    "plt.title(\"Доверительные интервалы для математических ожиданий\")\n",
    "plt.show()"
   ]
  },
  {
   "cell_type": "markdown",
   "metadata": {},
   "source": [
    "### Попарные сравнения $m_i$ и $m_j$"
   ]
  },
  {
   "cell_type": "code",
   "execution_count": 81,
   "metadata": {},
   "outputs": [
    {
     "data": {
      "text/html": [
       "<div>\n",
       "<style scoped>\n",
       "    .dataframe tbody tr th:only-of-type {\n",
       "        vertical-align: middle;\n",
       "    }\n",
       "\n",
       "    .dataframe tbody tr th {\n",
       "        vertical-align: top;\n",
       "    }\n",
       "\n",
       "    .dataframe thead th {\n",
       "        text-align: right;\n",
       "    }\n",
       "</style>\n",
       "<table border=\"1\" class=\"dataframe\">\n",
       "  <thead>\n",
       "    <tr style=\"text-align: right;\">\n",
       "      <th></th>\n",
       "      <th>data</th>\n",
       "      <th>group</th>\n",
       "    </tr>\n",
       "  </thead>\n",
       "  <tbody>\n",
       "    <tr>\n",
       "      <th>0</th>\n",
       "      <td>5.840166</td>\n",
       "      <td>1</td>\n",
       "    </tr>\n",
       "    <tr>\n",
       "      <th>1</th>\n",
       "      <td>3.135305</td>\n",
       "      <td>1</td>\n",
       "    </tr>\n",
       "    <tr>\n",
       "      <th>2</th>\n",
       "      <td>3.553138</td>\n",
       "      <td>1</td>\n",
       "    </tr>\n",
       "    <tr>\n",
       "      <th>3</th>\n",
       "      <td>4.822591</td>\n",
       "      <td>1</td>\n",
       "    </tr>\n",
       "    <tr>\n",
       "      <th>4</th>\n",
       "      <td>4.365829</td>\n",
       "      <td>1</td>\n",
       "    </tr>\n",
       "    <tr>\n",
       "      <th>...</th>\n",
       "      <td>...</td>\n",
       "      <td>...</td>\n",
       "    </tr>\n",
       "    <tr>\n",
       "      <th>545</th>\n",
       "      <td>3.758334</td>\n",
       "      <td>4</td>\n",
       "    </tr>\n",
       "    <tr>\n",
       "      <th>546</th>\n",
       "      <td>3.835082</td>\n",
       "      <td>4</td>\n",
       "    </tr>\n",
       "    <tr>\n",
       "      <th>547</th>\n",
       "      <td>4.485864</td>\n",
       "      <td>4</td>\n",
       "    </tr>\n",
       "    <tr>\n",
       "      <th>548</th>\n",
       "      <td>4.625658</td>\n",
       "      <td>4</td>\n",
       "    </tr>\n",
       "    <tr>\n",
       "      <th>549</th>\n",
       "      <td>3.773848</td>\n",
       "      <td>4</td>\n",
       "    </tr>\n",
       "  </tbody>\n",
       "</table>\n",
       "<p>550 rows × 2 columns</p>\n",
       "</div>"
      ],
      "text/plain": [
       "         data  group\n",
       "0    5.840166      1\n",
       "1    3.135305      1\n",
       "2    3.553138      1\n",
       "3    4.822591      1\n",
       "4    4.365829      1\n",
       "..        ...    ...\n",
       "545  3.758334      4\n",
       "546  3.835082      4\n",
       "547  4.485864      4\n",
       "548  4.625658      4\n",
       "549  3.773848      4\n",
       "\n",
       "[550 rows x 2 columns]"
      ]
     },
     "execution_count": 81,
     "metadata": {},
     "output_type": "execute_result"
    }
   ],
   "source": [
    "grouped = pd.DataFrame({\"data\": X_pooled, \"group\": np.repeat(range(1, k + 1), n)})\n",
    "grouped"
   ]
  },
  {
   "cell_type": "code",
   "execution_count": 84,
   "metadata": {},
   "outputs": [
    {
     "name": "stdout",
     "output_type": "stream",
     "text": [
      "Multiple Comparison of Means - Tukey HSD, FWER=0.05\n",
      "===================================================\n",
      "group1 group2 meandiff p-adj   lower  upper  reject\n",
      "---------------------------------------------------\n",
      "     1      2   0.0569 0.9862  -0.372 0.4858  False\n",
      "     1      3  -0.0849 0.9739 -0.5975 0.4277  False\n",
      "     1      4   0.1734 0.8196 -0.3392  0.686  False\n",
      "     2      3  -0.1418 0.8293 -0.5707 0.2871  False\n",
      "     2      4   0.1164 0.8972 -0.3125 0.5453  False\n",
      "     3      4   0.2583 0.5643 -0.2543 0.7709  False\n",
      "---------------------------------------------------\n"
     ]
    }
   ],
   "source": [
    "result = pairwise_tukeyhsd(endog=grouped[\"data\"], groups=grouped[\"group\"], alpha=alpha)\n",
    "print(result)"
   ]
  },
  {
   "cell_type": "code",
   "execution_count": 96,
   "metadata": {},
   "outputs": [
    {
     "data": {
      "text/html": [
       "<div>\n",
       "<style scoped>\n",
       "    .dataframe tbody tr th:only-of-type {\n",
       "        vertical-align: middle;\n",
       "    }\n",
       "\n",
       "    .dataframe tbody tr th {\n",
       "        vertical-align: top;\n",
       "    }\n",
       "\n",
       "    .dataframe thead th {\n",
       "        text-align: right;\n",
       "    }\n",
       "</style>\n",
       "<table border=\"1\" class=\"dataframe\">\n",
       "  <thead>\n",
       "    <tr style=\"text-align: right;\">\n",
       "      <th></th>\n",
       "      <th>m_i</th>\n",
       "      <th>m_j</th>\n",
       "      <th>z</th>\n",
       "      <th>p-value</th>\n",
       "      <th>lower</th>\n",
       "      <th>upper</th>\n",
       "      <th>Отклонение H_0</th>\n",
       "    </tr>\n",
       "  </thead>\n",
       "  <tbody>\n",
       "    <tr>\n",
       "      <th>0</th>\n",
       "      <td>1</td>\n",
       "      <td>2</td>\n",
       "      <td>0.0569</td>\n",
       "      <td>0.9862</td>\n",
       "      <td>-0.3720</td>\n",
       "      <td>0.4858</td>\n",
       "      <td>False</td>\n",
       "    </tr>\n",
       "    <tr>\n",
       "      <th>1</th>\n",
       "      <td>1</td>\n",
       "      <td>3</td>\n",
       "      <td>-0.0849</td>\n",
       "      <td>0.9739</td>\n",
       "      <td>-0.5975</td>\n",
       "      <td>0.4277</td>\n",
       "      <td>False</td>\n",
       "    </tr>\n",
       "    <tr>\n",
       "      <th>2</th>\n",
       "      <td>1</td>\n",
       "      <td>4</td>\n",
       "      <td>0.1734</td>\n",
       "      <td>0.8196</td>\n",
       "      <td>-0.3392</td>\n",
       "      <td>0.6860</td>\n",
       "      <td>False</td>\n",
       "    </tr>\n",
       "    <tr>\n",
       "      <th>3</th>\n",
       "      <td>2</td>\n",
       "      <td>3</td>\n",
       "      <td>-0.1418</td>\n",
       "      <td>0.8293</td>\n",
       "      <td>-0.5707</td>\n",
       "      <td>0.2871</td>\n",
       "      <td>False</td>\n",
       "    </tr>\n",
       "    <tr>\n",
       "      <th>4</th>\n",
       "      <td>2</td>\n",
       "      <td>4</td>\n",
       "      <td>0.1164</td>\n",
       "      <td>0.8972</td>\n",
       "      <td>-0.3125</td>\n",
       "      <td>0.5453</td>\n",
       "      <td>False</td>\n",
       "    </tr>\n",
       "    <tr>\n",
       "      <th>5</th>\n",
       "      <td>3</td>\n",
       "      <td>4</td>\n",
       "      <td>0.2583</td>\n",
       "      <td>0.5643</td>\n",
       "      <td>-0.2543</td>\n",
       "      <td>0.7709</td>\n",
       "      <td>False</td>\n",
       "    </tr>\n",
       "  </tbody>\n",
       "</table>\n",
       "</div>"
      ],
      "text/plain": [
       "   m_i  m_j       z  p-value   lower   upper  Отклонение H_0\n",
       "0    1    2  0.0569   0.9862 -0.3720  0.4858           False\n",
       "1    1    3 -0.0849   0.9739 -0.5975  0.4277           False\n",
       "2    1    4  0.1734   0.8196 -0.3392  0.6860           False\n",
       "3    2    3 -0.1418   0.8293 -0.5707  0.2871           False\n",
       "4    2    4  0.1164   0.8972 -0.3125  0.5453           False\n",
       "5    3    4  0.2583   0.5643 -0.2543  0.7709           False"
      ]
     },
     "execution_count": 96,
     "metadata": {},
     "output_type": "execute_result"
    }
   ],
   "source": [
    "df = pd.DataFrame(\n",
    "    data=result._results_table.data[1:],\n",
    "    columns=[\n",
    "        \"m_i\",\n",
    "        \"m_j\",\n",
    "        \"z\",\n",
    "        \"p-value\",\n",
    "        \"lower\",\n",
    "        \"upper\",\n",
    "        \"Отклонение H_0\",\n",
    "    ],\n",
    ")\n",
    "\n",
    "df"
   ]
  },
  {
   "cell_type": "markdown",
   "metadata": {},
   "source": [
    "| Гипотеза          | Выборочное значение статистики критерия | $p$-value | Статистическое решение при $\\alpha = 0.05$ | Ошибка статистического решения |\n",
    "| ----------------- | --------------------------------------- | --------- | ------------------------------------------ | ------------------------------ |\n",
    "| $H_0:\\ m_1 = m_2$ | 0.06                                    | 0.99      | $H_0$ принимается                          | Нет                            |\n",
    "| $H_0:\\ m_1 = m_3$ | -0.08                                   | 0.97      | $H_0$ принимается                          | Нет                            |\n",
    "| $H_0:\\ m_1 = m_4$ | 0.17                                    | 0.82      | $H_0$ принимается                          | Нет                            |\n",
    "| $H_0:\\ m_2 = m_3$ | -0.14                                   | 0.83      | $H_0$ принимается                          | Нет                            |\n",
    "| $H_0:\\ m_2 = m_4$ | 0.12                                    | 0.90      | $H_0$ принимается                          | Нет                            |\n",
    "| $H_0:\\ m_3 = m_4$ | 0.26                                    | 0.56      | $H_0$ принимается                          | Нет                            |\n"
   ]
  }
 ],
 "metadata": {
  "kernelspec": {
   "display_name": ".venv",
   "language": "python",
   "name": "python3"
  },
  "language_info": {
   "codemirror_mode": {
    "name": "ipython",
    "version": 3
   },
   "file_extension": ".py",
   "mimetype": "text/x-python",
   "name": "python",
   "nbconvert_exporter": "python",
   "pygments_lexer": "ipython3",
   "version": "3.13.0"
  }
 },
 "nbformat": 4,
 "nbformat_minor": 2
}
