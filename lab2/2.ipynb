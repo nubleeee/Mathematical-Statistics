{
 "cells": [
  {
   "cell_type": "markdown",
   "metadata": {},
   "source": [
    "# Лабораторная работа №2"
   ]
  },
  {
   "cell_type": "markdown",
   "metadata": {},
   "source": [
    "## Условие\n",
    "\n",
    "Вариант №2\n",
    "\n",
    "Распределения:\n",
    "\n",
    "$$\\mathbf{X} \\sim R(2, 6)$$\n",
    "$$\\mathbf{Y} \\sim R(2, 6)$$\n",
    "\n",
    "Объёмы выборок:\n",
    "\n",
    "$$ n_1 = 50$$\n",
    "$$ n_2 = 50 $$"
   ]
  },
  {
   "cell_type": "markdown",
   "metadata": {},
   "source": [
    "## Импорты"
   ]
  },
  {
   "cell_type": "code",
   "execution_count": 295,
   "metadata": {},
   "outputs": [],
   "source": [
    "import numpy as np\n",
    "import matplotlib.pyplot as plt\n",
    "from math import sqrt\n",
    "from scipy import stats\n",
    "from statsmodels.stats.descriptivestats import sign_test\n",
    "from time import time\n",
    "from IPython.display import display, Math, Markdown  # для вывода формул в консоль"
   ]
  },
  {
   "cell_type": "markdown",
   "metadata": {},
   "source": [
    "## Определения"
   ]
  },
  {
   "cell_type": "code",
   "execution_count": 2,
   "metadata": {},
   "outputs": [],
   "source": [
    "a1, b1, n1 = 2, 6, 50\n",
    "a2, b2, n2 = 2, 6, 50"
   ]
  },
  {
   "cell_type": "code",
   "execution_count": 43,
   "metadata": {},
   "outputs": [],
   "source": [
    "def mprint(*strings):\n",
    "    for s in strings:\n",
    "        display(Markdown(s))\n",
    "\n",
    "\n",
    "np.random.seed(int(time()))\n",
    "plt.rc(\"text\", usetex=True)\n",
    "plt.rc(\n",
    "    \"text.latex\",\n",
    "    preamble=r\"\"\"\n",
    "\\usepackage[english, russian]{babel}\n",
    "\\usepackage[utf8]{inputenc}\n",
    "\"\"\",\n",
    ")\n",
    "plt.style.use(\"seaborn-v0_8\")"
   ]
  },
  {
   "cell_type": "code",
   "execution_count": 39,
   "metadata": {},
   "outputs": [],
   "source": [
    "alpha = 0.05\n",
    "\n",
    "\n",
    "def verdict(alpha, p_value):\n",
    "    if alpha > p_value:\n",
    "        return \"$H_0$ отклоняется\"\n",
    "    else:\n",
    "        return \"$H_0$ принимается\""
   ]
  },
  {
   "cell_type": "markdown",
   "metadata": {},
   "source": [
    "## 1. Исходные данные"
   ]
  },
  {
   "cell_type": "code",
   "execution_count": null,
   "metadata": {},
   "outputs": [
    {
     "data": {
      "text/latex": [
       "$\\displaystyle \\mathbf{X}$: [3.72 2.7  4.96 2.29 4.59 5.12 4.82 5.31 4.11 4.95]$"
      ],
      "text/plain": [
       "<IPython.core.display.Math object>"
      ]
     },
     "metadata": {},
     "output_type": "display_data"
    }
   ],
   "source": [
    "X = np.random.uniform(a1, b1, n1)\n",
    "\n",
    "mprint(f\"$\\\\mathbf{{X}}$: {X[:10].round(2)}\")"
   ]
  },
  {
   "cell_type": "markdown",
   "metadata": {},
   "source": [
    "### Характеристики наблюдаемой величины $\\mathbf X$"
   ]
  },
  {
   "cell_type": "markdown",
   "metadata": {},
   "source": [
    "| Распределение | Параметры          | Математическое ожидание          | Дисперсия                                               |\n",
    "| ------------- | ------------------ | -------------------------------- | ------------------------------------------------------- |\n",
    "| $R(2, 6)$     | $a_1 = 2, b_1 = 6$ | $m_1 = \\dfrac{a_1 + b_1}{2} = 4$ | $\\sigma_1^2 = \\dfrac{(b_1 - a_1)^2}{12} = \\dfrac{4}{3}$ |"
   ]
  },
  {
   "cell_type": "markdown",
   "metadata": {},
   "source": [
    "### Выборочные характеристики"
   ]
  },
  {
   "cell_type": "markdown",
   "metadata": {},
   "source": [
    "Мы имеем выборку, нам нужно рассчитать **несмещенную** оценку с.к.о. и дисперсии, поэтому применяем формулы:\n",
    "\n",
    "$$ s = \\sqrt{\\dfrac{1}{n - 1} \\sum\\limits_{i = 1}^{n} (x_i - \\overline{x})^2} $$\n",
    "$$ s^2 = \\dfrac{1}{n - 1} \\sum\\limits_{i = 1}^{n} (x_i - \\overline{x})^2 $$\n",
    "\n",
    "Множитель $\\dfrac{1}{n - a}$  в `numpy` достигается передачей параметра `ddof=a`, в данном случае `ddof=1`. "
   ]
  },
  {
   "cell_type": "code",
   "execution_count": 8,
   "metadata": {},
   "outputs": [
    {
     "data": {
      "text/latex": [
       "$\\displaystyle \\overline{x} =$ 4.31, $s^2 =$ 1.04, $s$ = 1.02$"
      ],
      "text/plain": [
       "<IPython.core.display.Math object>"
      ]
     },
     "metadata": {},
     "output_type": "display_data"
    }
   ],
   "source": [
    "mean1 = X.mean()\n",
    "s1 = X.std(ddof=1)\n",
    "S1 = X.var(ddof=1)\n",
    "\n",
    "mprint(f\"$\\\\overline{{x}} =$ {mean1:.2f}, $s^2 =$ {S1:.2f}, $s$ = {s1:.2f}\")"
   ]
  },
  {
   "cell_type": "markdown",
   "metadata": {},
   "source": [
    "| Среднее, $\\overline{x_i}$ | Оценка дисперсии, $s_i^2$ | Оценка с.к.о., $s_i$ | \n",
    "| ------------------------- | ------------------------- | -------------------- | \n",
    "| 4.31                      | 1.04                      | 1.02                 | \n"
   ]
  },
  {
   "cell_type": "markdown",
   "metadata": {},
   "source": [
    "## 2. Визуальное представление выборки"
   ]
  },
  {
   "cell_type": "code",
   "execution_count": 188,
   "metadata": {},
   "outputs": [
    {
     "data": {
      "image/png": "[encoded data removed]",
      "text/plain": [
       "<Figure size 1000x600 with 4 Axes>"
      ]
     },
     "metadata": {},
     "output_type": "display_data"
    }
   ],
   "source": [
    "bins_list = [5, 10, 15, 9]\n",
    "\n",
    "fig, axes = plt.subplots(2, 2, figsize=(10, 6))\n",
    "\n",
    "for ax, NBins in zip(axes.flatten(), bins_list):\n",
    "    ax.hist(X, bins=NBins, edgecolor=\"black\")\n",
    "    ax.set_xlabel(\"Value\")\n",
    "    ax.set_ylabel(\"Frequency\")\n",
    "    ax.set_title(f\"{NBins=}\")\n",
    "plt.tight_layout()  # оптимизирует отступы\n",
    "plt.show()"
   ]
  },
  {
   "cell_type": "markdown",
   "metadata": {},
   "source": [
    "## 3. Критерий $\\chi^2$"
   ]
  },
  {
   "cell_type": "markdown",
   "metadata": {},
   "source": [
    "### Теоретическая справка"
   ]
  },
  {
   "cell_type": "markdown",
   "metadata": {},
   "source": [
    "У нас есть выборка объёма $n$: $x_1, x_2, \\dots, x_n$ случайной величины $\\mathbf X \\sim F_X(x)$.\n",
    "\n",
    "Мы хотим понять вид распределения случайной величины $\\mathbf X$:\n",
    "$$ H_0:\\ F_X(x) = G(x) $$\n",
    "$$ H_1:\\ F_X(x) \\neq G(x)  $$\n",
    "\n",
    "Разбиваем выборку в группированный статистический ряд. Рекомендуется выбирать $\\Delta_i$ так, чтобы $n \\cdot p_i \\gtrsim 5$ \n",
    "\n",
    "| $\\Delta_i$ | $\\Delta_1$ | $\\cdots$ | $\\Delta_k$ |\n",
    "| ---------- | ---------- | -------- | ---------- |\n",
    "| $n_i$      | $n_1$      | $\\cdots$ | $n_k$      |\n",
    "\n",
    "$n_i$ - частота попадания случайной величины $\\mathbf X$ в интервал $\\Delta_i$.\n",
    "\n",
    "$p_i$ - вероятность попадания случайной величины $\\mathbf X$ в интервал $\\Delta_i$ в условиях $H_0$, то есть, если $\\Delta_i = (a_{i-1}, a_{i}]$, то \n",
    "\n",
    "$$p_i = \\int\\limits_{a_{i-1}}^{a_{i}}g(x)dx = G(a_{i}) - G(a_{i-1})$$\n",
    "\n",
    "Статистика критерия: \n",
    "$$Z = \\sum\\limits_{i=1}^k \\dfrac{(n_i - n \\cdot p_i)^2}{n \\cdot p_i}$$\n",
    "$$Z \\mid_{H_0} \\sim \\chi^2(k-r-1),$$\n",
    "где $r$ - количество оцениваемых параметров у $G$. \n",
    "Например:\n",
    "\n",
    "1. если $H_0:\\ \\mathbf X \\sim N(5, 2)$, то $r = 0$\n",
    "2. если $H_0:\\ \\mathbf X \\sim N(?, 2)$, то $r = 1$\n",
    "3. если $H_0:\\ \\mathbf X \\sim N(?, ?)$, то $r = 2$\n",
    "\n",
    "При каком-то неизвестном параметре переформулируем задачу как $H_0:\\ \\mathbf X \\sim N(\\overline x, s)$, то есть используем МП-оценки для рассчёта параметров.\n",
    "\n"
   ]
  },
  {
   "cell_type": "markdown",
   "metadata": {},
   "source": [
    "### Статистическая гипотеза $H_0:\\ X \\sim N(m, \\sigma)$"
   ]
  },
  {
   "cell_type": "code",
   "execution_count": 103,
   "metadata": {},
   "outputs": [],
   "source": [
    "def chi2_gof_normal(X, bins, m=None, std=None):\n",
    "    n = len(X)\n",
    "    r = 0\n",
    "    if not m:\n",
    "        m = X.mean()\n",
    "        r += 1\n",
    "    if not std:\n",
    "        std = X.std(ddof=1)\n",
    "        r += 1\n",
    "    frequences, bin_edges = np.histogram(X, bins=bins)\n",
    "    k = len(frequences)\n",
    "    p_list = stats.norm.cdf(bin_edges[1:], loc=m, scale=std) - stats.norm.cdf(\n",
    "        bin_edges[:-1], loc=m, scale=std\n",
    "    )\n",
    "    z = sum((frequences - n * p_list) ** 2 / (n * p_list))\n",
    "    p_value = stats.chi2.sf(z, df=k - r - 1)\n",
    "    return z, p_value"
   ]
  },
  {
   "cell_type": "code",
   "execution_count": 104,
   "metadata": {},
   "outputs": [
    {
     "data": {
      "text/markdown": [
       "### $\\chi^2$ goodness of fit test"
      ],
      "text/plain": [
       "<IPython.core.display.Markdown object>"
      ]
     },
     "metadata": {},
     "output_type": "display_data"
    },
    {
     "data": {
      "text/markdown": [
       "$H_0: \\mathbf X \\sim N(?, ?)$"
      ],
      "text/plain": [
       "<IPython.core.display.Markdown object>"
      ]
     },
     "metadata": {},
     "output_type": "display_data"
    },
    {
     "data": {
      "text/markdown": [
       "#### NBins = 5"
      ],
      "text/plain": [
       "<IPython.core.display.Markdown object>"
      ]
     },
     "metadata": {},
     "output_type": "display_data"
    },
    {
     "data": {
      "text/markdown": [
       "$z_{выб} =$ 8.14"
      ],
      "text/plain": [
       "<IPython.core.display.Markdown object>"
      ]
     },
     "metadata": {},
     "output_type": "display_data"
    },
    {
     "data": {
      "text/markdown": [
       "$p =$ 0.02"
      ],
      "text/plain": [
       "<IPython.core.display.Markdown object>"
      ]
     },
     "metadata": {},
     "output_type": "display_data"
    },
    {
     "data": {
      "text/markdown": [
       "$H_0$ отклоняется"
      ],
      "text/plain": [
       "<IPython.core.display.Markdown object>"
      ]
     },
     "metadata": {},
     "output_type": "display_data"
    },
    {
     "data": {
      "text/markdown": [
       "#### NBins = 10"
      ],
      "text/plain": [
       "<IPython.core.display.Markdown object>"
      ]
     },
     "metadata": {},
     "output_type": "display_data"
    },
    {
     "data": {
      "text/markdown": [
       "$z_{выб} =$ 16.29"
      ],
      "text/plain": [
       "<IPython.core.display.Markdown object>"
      ]
     },
     "metadata": {},
     "output_type": "display_data"
    },
    {
     "data": {
      "text/markdown": [
       "$p =$ 0.02"
      ],
      "text/plain": [
       "<IPython.core.display.Markdown object>"
      ]
     },
     "metadata": {},
     "output_type": "display_data"
    },
    {
     "data": {
      "text/markdown": [
       "$H_0$ отклоняется"
      ],
      "text/plain": [
       "<IPython.core.display.Markdown object>"
      ]
     },
     "metadata": {},
     "output_type": "display_data"
    },
    {
     "data": {
      "text/markdown": [
       "#### NBins = 15"
      ],
      "text/plain": [
       "<IPython.core.display.Markdown object>"
      ]
     },
     "metadata": {},
     "output_type": "display_data"
    },
    {
     "data": {
      "text/markdown": [
       "$z_{выб} =$ 23.50"
      ],
      "text/plain": [
       "<IPython.core.display.Markdown object>"
      ]
     },
     "metadata": {},
     "output_type": "display_data"
    },
    {
     "data": {
      "text/markdown": [
       "$p =$ 0.02"
      ],
      "text/plain": [
       "<IPython.core.display.Markdown object>"
      ]
     },
     "metadata": {},
     "output_type": "display_data"
    },
    {
     "data": {
      "text/markdown": [
       "$H_0$ отклоняется"
      ],
      "text/plain": [
       "<IPython.core.display.Markdown object>"
      ]
     },
     "metadata": {},
     "output_type": "display_data"
    },
    {
     "data": {
      "text/markdown": [
       "#### NBins = 9"
      ],
      "text/plain": [
       "<IPython.core.display.Markdown object>"
      ]
     },
     "metadata": {},
     "output_type": "display_data"
    },
    {
     "data": {
      "text/markdown": [
       "$z_{выб} =$ 11.48"
      ],
      "text/plain": [
       "<IPython.core.display.Markdown object>"
      ]
     },
     "metadata": {},
     "output_type": "display_data"
    },
    {
     "data": {
      "text/markdown": [
       "$p =$ 0.07"
      ],
      "text/plain": [
       "<IPython.core.display.Markdown object>"
      ]
     },
     "metadata": {},
     "output_type": "display_data"
    },
    {
     "data": {
      "text/markdown": [
       "$H_0$ принимается"
      ],
      "text/plain": [
       "<IPython.core.display.Markdown object>"
      ]
     },
     "metadata": {},
     "output_type": "display_data"
    }
   ],
   "source": [
    "mprint(r\"### $\\chi^2$ goodness of fit test\", f\"$H_0: \\\\mathbf X \\\\sim N(?, ?)$\")\n",
    "for bins in bins_list:\n",
    "    z, p_value = chi2_gof_normal(X, bins)\n",
    "    mprint(\n",
    "        f\"#### NBins = {bins}\",\n",
    "        f\"$z_{{выб}} =$ {z:.2f}\",\n",
    "        f\"$p =$ {p_value:.2f}\",\n",
    "        verdict(alpha, p_value),\n",
    "    )"
   ]
  },
  {
   "cell_type": "markdown",
   "metadata": {},
   "source": [
    "| Число интервалов группировки | Выборочное значение статистики критерия | $p$-value | Статистическое решение при $\\alpha = 0.05$ | Ошибка статистического решения |\n",
    "| ---------------------------- | --------------------------------------- | --------- | ------------------------------------------ | ------------------------------ |\n",
    "| 5                            | 8.14                                    | 0.02      | $H_0$ отклоняется                          | Нет                            |\n",
    "| 10                           | 16.29                                   | 0.02      | $H_0$ отклоняется                          | Нет                            |\n",
    "| 15                           | 23.50                                   | 0.02      | $H_0$ отклоняется                          | Нет                            |\n",
    "| 9                            | 11.48                                   | 0.07      | $H_0$ принимается                          | Да                             |\n"
   ]
  },
  {
   "cell_type": "markdown",
   "metadata": {},
   "source": [
    "### Статистическая гипотеза $H_0:\\ X \\sim R(a, b)$"
   ]
  },
  {
   "cell_type": "code",
   "execution_count": 92,
   "metadata": {},
   "outputs": [],
   "source": [
    "def chi2_gof_uniform(X, bins, a=None, b=None):\n",
    "    n = len(X)\n",
    "    r = 0\n",
    "    if not a:\n",
    "        a = X.min()\n",
    "        r += 1\n",
    "    if not b:\n",
    "        b = X.max()\n",
    "        r += 1\n",
    "    frequences, bin_edges = np.histogram(X, bins=bins)\n",
    "    k = len(frequences)\n",
    "    p_list = stats.uniform.cdf(bin_edges[1:], loc=a, scale=b - a) - stats.uniform.cdf(\n",
    "        bin_edges[:-1], loc=a, scale=b - a\n",
    "    )\n",
    "    z = sum((frequences - n * p_list) ** 2 / (n * p_list))\n",
    "    p_value = stats.chi2.sf(z, df=k - r - 1)\n",
    "    return z, p_value"
   ]
  },
  {
   "cell_type": "code",
   "execution_count": 93,
   "metadata": {},
   "outputs": [
    {
     "data": {
      "text/markdown": [
       "### $\\chi^2$ goodness of fit test"
      ],
      "text/plain": [
       "<IPython.core.display.Markdown object>"
      ]
     },
     "metadata": {},
     "output_type": "display_data"
    },
    {
     "data": {
      "text/markdown": [
       "$H_0: \\mathbf X \\sim R(?, ?)$"
      ],
      "text/plain": [
       "<IPython.core.display.Markdown object>"
      ]
     },
     "metadata": {},
     "output_type": "display_data"
    },
    {
     "data": {
      "text/markdown": [
       "#### NBins = 5"
      ],
      "text/plain": [
       "<IPython.core.display.Markdown object>"
      ]
     },
     "metadata": {},
     "output_type": "display_data"
    },
    {
     "data": {
      "text/markdown": [
       "$z_{выб} =$ 13.60"
      ],
      "text/plain": [
       "<IPython.core.display.Markdown object>"
      ]
     },
     "metadata": {},
     "output_type": "display_data"
    },
    {
     "data": {
      "text/markdown": [
       "$p =$ 0.00"
      ],
      "text/plain": [
       "<IPython.core.display.Markdown object>"
      ]
     },
     "metadata": {},
     "output_type": "display_data"
    },
    {
     "data": {
      "text/markdown": [
       "$H_0$ отклоняется"
      ],
      "text/plain": [
       "<IPython.core.display.Markdown object>"
      ]
     },
     "metadata": {},
     "output_type": "display_data"
    },
    {
     "data": {
      "text/markdown": [
       "#### NBins = 10"
      ],
      "text/plain": [
       "<IPython.core.display.Markdown object>"
      ]
     },
     "metadata": {},
     "output_type": "display_data"
    },
    {
     "data": {
      "text/markdown": [
       "$z_{выб} =$ 15.20"
      ],
      "text/plain": [
       "<IPython.core.display.Markdown object>"
      ]
     },
     "metadata": {},
     "output_type": "display_data"
    },
    {
     "data": {
      "text/markdown": [
       "$p =$ 0.03"
      ],
      "text/plain": [
       "<IPython.core.display.Markdown object>"
      ]
     },
     "metadata": {},
     "output_type": "display_data"
    },
    {
     "data": {
      "text/markdown": [
       "$H_0$ отклоняется"
      ],
      "text/plain": [
       "<IPython.core.display.Markdown object>"
      ]
     },
     "metadata": {},
     "output_type": "display_data"
    },
    {
     "data": {
      "text/markdown": [
       "#### NBins = 15"
      ],
      "text/plain": [
       "<IPython.core.display.Markdown object>"
      ]
     },
     "metadata": {},
     "output_type": "display_data"
    },
    {
     "data": {
      "text/markdown": [
       "$z_{выб} =$ 20.80"
      ],
      "text/plain": [
       "<IPython.core.display.Markdown object>"
      ]
     },
     "metadata": {},
     "output_type": "display_data"
    },
    {
     "data": {
      "text/markdown": [
       "$p =$ 0.05"
      ],
      "text/plain": [
       "<IPython.core.display.Markdown object>"
      ]
     },
     "metadata": {},
     "output_type": "display_data"
    },
    {
     "data": {
      "text/markdown": [
       "$H_0$ принимается"
      ],
      "text/plain": [
       "<IPython.core.display.Markdown object>"
      ]
     },
     "metadata": {},
     "output_type": "display_data"
    },
    {
     "data": {
      "text/markdown": [
       "#### NBins = 9"
      ],
      "text/plain": [
       "<IPython.core.display.Markdown object>"
      ]
     },
     "metadata": {},
     "output_type": "display_data"
    },
    {
     "data": {
      "text/markdown": [
       "$z_{выб} =$ 11.56"
      ],
      "text/plain": [
       "<IPython.core.display.Markdown object>"
      ]
     },
     "metadata": {},
     "output_type": "display_data"
    },
    {
     "data": {
      "text/markdown": [
       "$p =$ 0.07"
      ],
      "text/plain": [
       "<IPython.core.display.Markdown object>"
      ]
     },
     "metadata": {},
     "output_type": "display_data"
    },
    {
     "data": {
      "text/markdown": [
       "$H_0$ принимается"
      ],
      "text/plain": [
       "<IPython.core.display.Markdown object>"
      ]
     },
     "metadata": {},
     "output_type": "display_data"
    }
   ],
   "source": [
    "mprint(r\"### $\\chi^2$ goodness of fit test\", f\"$H_0: \\\\mathbf X \\\\sim R(?, ?)$\")\n",
    "for bins in bins_list:\n",
    "    z, p_value = chi2_gof_uniform(X, bins)\n",
    "    mprint(\n",
    "        f\"#### NBins = {bins}\",\n",
    "        f\"$z_{{выб}} =$ {z:.2f}\",\n",
    "        f\"$p =$ {p_value:.2f}\",\n",
    "        verdict(alpha, p_value),\n",
    "    )"
   ]
  },
  {
   "cell_type": "markdown",
   "metadata": {},
   "source": [
    "| Число интервалов группировки | Выборочное значение статистики критерия | $p$-value | Статистическое решение при $\\alpha = 0.05$ | Ошибка статистического решения |\n",
    "| ---------------------------- | --------------------------------------- | --------- | ------------------------------------------ | ------------------------------ |\n",
    "| 5                            | 13.60                                   | 0.00      | $H_0$ отклоняется                          | Да                             |\n",
    "| 10                           | 15.20                                   | 0.03      | $H_0$ отклоняется                          | Да                             |\n",
    "| 15                           | 20.80                                   | 0.05      | $H_0$ принимается                          | Нет                            |\n",
    "| 9                            | 11.56                                   | 0.07      | $H_0$ принимается                          | Нет                            |\n"
   ]
  },
  {
   "cell_type": "markdown",
   "metadata": {},
   "source": [
    "### Статистическая гипотеза $H_0:\\ X \\sim \\chi^2(5)$"
   ]
  },
  {
   "cell_type": "code",
   "execution_count": 107,
   "metadata": {},
   "outputs": [],
   "source": [
    "def chi2_gof_chi2(X, bins, df=None):\n",
    "    n = len(X)\n",
    "    r = 0\n",
    "    if not df:\n",
    "        df = stats.chi2.fit(X)[0]\n",
    "        r += 1\n",
    "    frequences, bin_edges = np.histogram(X, bins=bins)\n",
    "    k = len(frequences)\n",
    "    p_list = stats.chi2.cdf(bin_edges[1:], df=df) - stats.chi2.cdf(\n",
    "        bin_edges[:-1], df=df\n",
    "    )\n",
    "    z = sum((frequences - n * p_list) ** 2 / (n * p_list))\n",
    "    p_value = stats.chi2.sf(z, df=k - r - 1)\n",
    "    return z, p_value"
   ]
  },
  {
   "cell_type": "code",
   "execution_count": null,
   "metadata": {},
   "outputs": [
    {
     "data": {
      "text/markdown": [
       "### $\\chi^2$ goodness of fit test"
      ],
      "text/plain": [
       "<IPython.core.display.Markdown object>"
      ]
     },
     "metadata": {},
     "output_type": "display_data"
    },
    {
     "data": {
      "text/markdown": [
       "$H_0: \\mathbf X \\sim \\chi^2(5)$"
      ],
      "text/plain": [
       "<IPython.core.display.Markdown object>"
      ]
     },
     "metadata": {},
     "output_type": "display_data"
    },
    {
     "data": {
      "text/markdown": [
       "#### NBins = 5"
      ],
      "text/plain": [
       "<IPython.core.display.Markdown object>"
      ]
     },
     "metadata": {},
     "output_type": "display_data"
    },
    {
     "data": {
      "text/markdown": [
       "$z_{выб} =$ 55.16"
      ],
      "text/plain": [
       "<IPython.core.display.Markdown object>"
      ]
     },
     "metadata": {},
     "output_type": "display_data"
    },
    {
     "data": {
      "text/markdown": [
       "$p =$ 0.00"
      ],
      "text/plain": [
       "<IPython.core.display.Markdown object>"
      ]
     },
     "metadata": {},
     "output_type": "display_data"
    },
    {
     "data": {
      "text/markdown": [
       "$H_0$ отклоняется"
      ],
      "text/plain": [
       "<IPython.core.display.Markdown object>"
      ]
     },
     "metadata": {},
     "output_type": "display_data"
    },
    {
     "data": {
      "text/markdown": [
       "#### NBins = 10"
      ],
      "text/plain": [
       "<IPython.core.display.Markdown object>"
      ]
     },
     "metadata": {},
     "output_type": "display_data"
    },
    {
     "data": {
      "text/markdown": [
       "$z_{выб} =$ 58.71"
      ],
      "text/plain": [
       "<IPython.core.display.Markdown object>"
      ]
     },
     "metadata": {},
     "output_type": "display_data"
    },
    {
     "data": {
      "text/markdown": [
       "$p =$ 0.00"
      ],
      "text/plain": [
       "<IPython.core.display.Markdown object>"
      ]
     },
     "metadata": {},
     "output_type": "display_data"
    },
    {
     "data": {
      "text/markdown": [
       "$H_0$ отклоняется"
      ],
      "text/plain": [
       "<IPython.core.display.Markdown object>"
      ]
     },
     "metadata": {},
     "output_type": "display_data"
    },
    {
     "data": {
      "text/markdown": [
       "#### NBins = 15"
      ],
      "text/plain": [
       "<IPython.core.display.Markdown object>"
      ]
     },
     "metadata": {},
     "output_type": "display_data"
    },
    {
     "data": {
      "text/markdown": [
       "$z_{выб} =$ 71.30"
      ],
      "text/plain": [
       "<IPython.core.display.Markdown object>"
      ]
     },
     "metadata": {},
     "output_type": "display_data"
    },
    {
     "data": {
      "text/markdown": [
       "$p =$ 0.00"
      ],
      "text/plain": [
       "<IPython.core.display.Markdown object>"
      ]
     },
     "metadata": {},
     "output_type": "display_data"
    },
    {
     "data": {
      "text/markdown": [
       "$H_0$ отклоняется"
      ],
      "text/plain": [
       "<IPython.core.display.Markdown object>"
      ]
     },
     "metadata": {},
     "output_type": "display_data"
    },
    {
     "data": {
      "text/markdown": [
       "#### NBins = 9"
      ],
      "text/plain": [
       "<IPython.core.display.Markdown object>"
      ]
     },
     "metadata": {},
     "output_type": "display_data"
    },
    {
     "data": {
      "text/markdown": [
       "$z_{выб} =$ 51.65"
      ],
      "text/plain": [
       "<IPython.core.display.Markdown object>"
      ]
     },
     "metadata": {},
     "output_type": "display_data"
    },
    {
     "data": {
      "text/markdown": [
       "$p =$ 0.00"
      ],
      "text/plain": [
       "<IPython.core.display.Markdown object>"
      ]
     },
     "metadata": {},
     "output_type": "display_data"
    },
    {
     "data": {
      "text/markdown": [
       "$H_0$ отклоняется"
      ],
      "text/plain": [
       "<IPython.core.display.Markdown object>"
      ]
     },
     "metadata": {},
     "output_type": "display_data"
    }
   ],
   "source": [
    "mprint(r\"### $\\chi^2$ goodness of fit test\", f\"$H_0: \\\\mathbf X \\\\sim \\\\chi^2(5)$\")\n",
    "for bins in bins_list:\n",
    "    z, p_value = chi2_gof_chi2(X, bins, df=5)\n",
    "    mprint(\n",
    "        f\"#### NBins = {bins}\",\n",
    "        f\"$z_{{выб}} =$ {z:.2f}\",\n",
    "        f\"$p =$ {p_value:.2f}\",\n",
    "        verdict(alpha, p_value),\n",
    "    )"
   ]
  },
  {
   "cell_type": "markdown",
   "metadata": {},
   "source": [
    "| Число интервалов группировки | Выборочное значение статистики критерия | $p$-value | Статистическое решение при $\\alpha = 0.05$ | Ошибка статистического решения |\n",
    "| ---------------------------- | --------------------------------------- | --------- | ------------------------------------------ | ------------------------------ |\n",
    "| 5                            | 55.16                                   | 0.00      | $H_0$ отклоняется                          | Нет                            |\n",
    "| 10                           | 58.71                                   | 0.00      | $H_0$ отклоняется                          | Нет                            |\n",
    "| 15                           | 71.30                                   | 0.00      | $H_0$ отклоняется                          | Нет                            |\n",
    "| 9                            | 51.65                                   | 0.00      | $H_0$ отклоняется                          | Нет                            |\n"
   ]
  },
  {
   "cell_type": "markdown",
   "metadata": {},
   "source": [
    "## 4. Критерий Колмогорова"
   ]
  },
  {
   "cell_type": "code",
   "execution_count": 135,
   "metadata": {},
   "outputs": [
    {
     "data": {
      "text/markdown": [
       "### ks-test"
      ],
      "text/plain": [
       "<IPython.core.display.Markdown object>"
      ]
     },
     "metadata": {},
     "output_type": "display_data"
    },
    {
     "data": {
      "text/markdown": [
       "$H_0: \\mathbf X \\sim N(?, ?)$"
      ],
      "text/plain": [
       "<IPython.core.display.Markdown object>"
      ]
     },
     "metadata": {},
     "output_type": "display_data"
    },
    {
     "data": {
      "text/markdown": [
       "$z_{выб} =$ 0.15"
      ],
      "text/plain": [
       "<IPython.core.display.Markdown object>"
      ]
     },
     "metadata": {},
     "output_type": "display_data"
    },
    {
     "data": {
      "text/markdown": [
       "$p =$ 0.21"
      ],
      "text/plain": [
       "<IPython.core.display.Markdown object>"
      ]
     },
     "metadata": {},
     "output_type": "display_data"
    },
    {
     "data": {
      "text/markdown": [
       "$H_0$ принимается"
      ],
      "text/plain": [
       "<IPython.core.display.Markdown object>"
      ]
     },
     "metadata": {},
     "output_type": "display_data"
    },
    {
     "data": {
      "text/markdown": [
       "$H_0: \\mathbf X \\sim R(?, ?)$"
      ],
      "text/plain": [
       "<IPython.core.display.Markdown object>"
      ]
     },
     "metadata": {},
     "output_type": "display_data"
    },
    {
     "data": {
      "text/markdown": [
       "$z_{выб} =$ 0.18"
      ],
      "text/plain": [
       "<IPython.core.display.Markdown object>"
      ]
     },
     "metadata": {},
     "output_type": "display_data"
    },
    {
     "data": {
      "text/markdown": [
       "$p =$ 0.06"
      ],
      "text/plain": [
       "<IPython.core.display.Markdown object>"
      ]
     },
     "metadata": {},
     "output_type": "display_data"
    },
    {
     "data": {
      "text/markdown": [
       "$H_0$ принимается"
      ],
      "text/plain": [
       "<IPython.core.display.Markdown object>"
      ]
     },
     "metadata": {},
     "output_type": "display_data"
    },
    {
     "data": {
      "text/markdown": [
       "$H_0: \\mathbf X \\sim \\chi^2(5)$"
      ],
      "text/plain": [
       "<IPython.core.display.Markdown object>"
      ]
     },
     "metadata": {},
     "output_type": "display_data"
    },
    {
     "data": {
      "text/markdown": [
       "$z_{выб} =$ 0.31"
      ],
      "text/plain": [
       "<IPython.core.display.Markdown object>"
      ]
     },
     "metadata": {},
     "output_type": "display_data"
    },
    {
     "data": {
      "text/markdown": [
       "$p =$ 0.00"
      ],
      "text/plain": [
       "<IPython.core.display.Markdown object>"
      ]
     },
     "metadata": {},
     "output_type": "display_data"
    },
    {
     "data": {
      "text/markdown": [
       "$H_0$ отклоняется"
      ],
      "text/plain": [
       "<IPython.core.display.Markdown object>"
      ]
     },
     "metadata": {},
     "output_type": "display_data"
    }
   ],
   "source": [
    "mprint(r\"### ks-test\")\n",
    "\n",
    "z, p_value = stats.kstest(X, stats.norm.cdf, args=(X.mean(), X.std(ddof=1)))\n",
    "mprint(\n",
    "    f\"$H_0: \\\\mathbf X \\\\sim N(?, ?)$\",\n",
    "    f\"$z_{{выб}} =$ {z:.2f}\",\n",
    "    f\"$p =$ {p_value:.2f}\",\n",
    "    verdict(alpha, p_value),\n",
    ")\n",
    "\n",
    "z, p_value = stats.kstest(X, stats.uniform.cdf, args=(X.min(), X.max() - X.min()))\n",
    "mprint(\n",
    "    f\"$H_0: \\\\mathbf X \\\\sim R(?, ?)$\",\n",
    "    f\"$z_{{выб}} =$ {z:.2f}\",\n",
    "    f\"$p =$ {p_value:.2f}\",\n",
    "    verdict(alpha, p_value),\n",
    ")\n",
    "\n",
    "z, p_value = stats.kstest(X, stats.chi2.cdf, args=(5,))\n",
    "mprint(\n",
    "    f\"$H_0: \\\\mathbf X \\\\sim \\\\chi^2(5)$\",\n",
    "    f\"$z_{{выб}} =$ {z:.2f}\",\n",
    "    f\"$p =$ {p_value:.2f}\",\n",
    "    verdict(alpha, p_value),\n",
    ")"
   ]
  },
  {
   "cell_type": "markdown",
   "metadata": {},
   "source": [
    "| Статистическая гипотеза $H_0$   | Выборочное значение статистики критерий | $p$-value | Статистическое решение при $\\alpha = 0.05$ | Ошибка статистического решения |\n",
    "| ------------------------------- | --------------------------------------- | --------- | ------------------------------------------ | ------------------------------ |\n",
    "| $\\mathbf X \\sim N(m, \\sigma)$ | 0.15                                    | 0.21      | $H_0$ принимается                          | Да                             |\n",
    "| $\\mathbf X \\sim R(a, b)$      | 0.18                                    | 0.06      | $H_0$ принимается                          | Нет                            |\n",
    "| $\\mathbf X \\sim \\chi^2(5)$   | 0.31                                    | 0.00      | $H_0$ отклоняется                          | Нет |\n"
   ]
  },
  {
   "cell_type": "code",
   "execution_count": 252,
   "metadata": {},
   "outputs": [
    {
     "data": {
      "image/png": "[encoded data removed]",
      "text/plain": [
       "<Figure size 800x550 with 1 Axes>"
      ]
     },
     "metadata": {},
     "output_type": "display_data"
    }
   ],
   "source": [
    "# сначала построим график чисто по выборке\n",
    "n = len(X)\n",
    "X_sorted = np.sort(X)\n",
    "F = np.arange(1, n + 1) / n\n",
    "\n",
    "plt.step(X_sorted, F, where=\"post\")\n",
    "plt.show()"
   ]
  },
  {
   "cell_type": "code",
   "execution_count": 254,
   "metadata": {},
   "outputs": [
    {
     "data": {
      "image/png": "[encoded data removed]",
      "text/plain": [
       "<Figure size 800x550 with 1 Axes>"
      ]
     },
     "metadata": {},
     "output_type": "display_data"
    }
   ],
   "source": [
    "# теперь построим с \"хвостиками\"\n",
    "X_sorted = np.concatenate(([-10000], X_sorted, [10000]))\n",
    "F = np.concatenate(([0], F, [1]))\n",
    "\n",
    "plt.step(X_sorted, F, where=\"post\")\n",
    "plt.xlim(1, 7)\n",
    "plt.show()"
   ]
  },
  {
   "cell_type": "code",
   "execution_count": 255,
   "metadata": {},
   "outputs": [
    {
     "data": {
      "image/png": "[encoded data removed]",
      "text/plain": [
       "<Figure size 800x550 with 1 Axes>"
      ]
     },
     "metadata": {},
     "output_type": "display_data"
    }
   ],
   "source": [
    "x = np.linspace(0, 10, 10000)\n",
    "norm = stats.norm.cdf(x, loc=X.mean(), scale=X.std(ddof=1))\n",
    "uniform = stats.uniform.cdf(x, loc=X.min(), scale=X.max() - X.min())\n",
    "chi2 = stats.chi2.cdf(x, df=5)\n",
    "\n",
    "plt.plot(x, norm, color=\"black\", linewidth=1, label=r\"$N(\\overline x, s)$\")\n",
    "plt.plot(x, uniform, color=\"b\", linewidth=1, label=r\"$R(x_{min}, x_{max})$\")\n",
    "plt.plot(x, chi2, color=\"g\", linewidth=1, label=r\"$\\chi^2(5)$\")\n",
    "plt.step(X_sorted, F, where=\"post\", color=\"r\", linewidth=3, label=r\"$F^*_X(x)$\")\n",
    "\n",
    "plt.title(\"Эмпирическая и теоретические функции распределения\", fontsize=14)\n",
    "plt.xlim(1, 7)\n",
    "plt.legend(fontsize=14)\n",
    "plt.xlabel(\"$x$\", fontsize=14)\n",
    "\n",
    "plt.show()"
   ]
  },
  {
   "cell_type": "markdown",
   "metadata": {},
   "source": [
    "## 5. Двухвыборочные характеристики"
   ]
  },
  {
   "cell_type": "code",
   "execution_count": 185,
   "metadata": {},
   "outputs": [
    {
     "data": {
      "text/markdown": [
       "$\\mathbf{Y}$: [2.61 5.65 4.55 4.36 5.13 4.82 5.69 5.83 3.27 3.17]"
      ],
      "text/plain": [
       "<IPython.core.display.Markdown object>"
      ]
     },
     "metadata": {},
     "output_type": "display_data"
    }
   ],
   "source": [
    "Y = np.random.uniform(a2, b2, n2)\n",
    "\n",
    "mprint(f\"$\\\\mathbf{{Y}}$: {Y[:10].round(2)}\")"
   ]
  },
  {
   "cell_type": "markdown",
   "metadata": {},
   "source": [
    "### Характеристики наблюдаемой величины $\\mathbf Y$\n",
    "\n",
    "| Распределение | Параметры          | Математическое ожидание          | Дисперсия                                               |\n",
    "| ------------- | ------------------ | -------------------------------- | ------------------------------------------------------- |\n",
    "| $R(2, 6)$     | $a_2 = 2, b_2 = 6$ | $m_2 = \\dfrac{a_2 + b_2}{2} = 4$ | $\\sigma_2^2 = \\dfrac{(b_2 - a_2)^2}{12} = \\dfrac{4}{3}$ |"
   ]
  },
  {
   "cell_type": "markdown",
   "metadata": {},
   "source": [
    "### Графики"
   ]
  },
  {
   "cell_type": "code",
   "execution_count": 275,
   "metadata": {},
   "outputs": [
    {
     "data": {
      "image/png": "[encoded data removed]",
      "text/plain": [
       "<Figure size 800x550 with 2 Axes>"
      ]
     },
     "metadata": {},
     "output_type": "display_data"
    }
   ],
   "source": [
    "frequencesX, bin_edges = np.histogram(X, bins=9, range=(2, 6))\n",
    "frequencesY, _ = np.histogram(Y, bin_edges)\n",
    "plt.subplot(1, 2, 1)\n",
    "plt.hist(\n",
    "    X, bins=bin_edges, color=\"b\", edgecolor=\"black\", linewidth=2, label=r\"$\\mathbf X$\"\n",
    ")\n",
    "plt.hist(\n",
    "    Y,\n",
    "    bins=bin_edges,\n",
    "    color=\"r\",\n",
    "    edgecolor=\"black\",\n",
    "    alpha=0.7,\n",
    "    linestyle=\"--\",\n",
    "    linewidth=2,\n",
    "    label=r\"$\\mathbf Y$\",\n",
    ")\n",
    "plt.legend(fontsize=14)\n",
    "plt.xlabel(\"Value\", fontsize=14)\n",
    "plt.ylabel(\"Frequency\", fontsize=14)\n",
    "plt.title(r\"HIST: $\\mathbf X, \\mathbf Y$\", fontsize=14)\n",
    "\n",
    "\n",
    "n = len(X)\n",
    "m = len(Y)\n",
    "\n",
    "X_sorted = np.concatenate(([-10000], np.sort(X), [10000]))\n",
    "F_x = np.concatenate(([0], np.arange(1, n + 1) / n, [1]))\n",
    "\n",
    "Y_sorted = np.concatenate(([-10000], np.sort(Y), [10000]))\n",
    "F_y = np.concatenate(([0], np.arange(1, m + 1) / m, [1]))\n",
    "\n",
    "plt.subplot(1, 2, 2)\n",
    "plt.step(X_sorted, F_x, where=\"post\", color=\"b\", label=r\"$F_X^*(x)$\")\n",
    "plt.step(Y_sorted, F_y, where=\"post\", color=\"r\", label=r\"$F_Y^*(x)$\")\n",
    "plt.legend(fontsize=14)\n",
    "plt.xlabel(r\"$x$\", fontsize=14)\n",
    "plt.title(r\"ECDF:  $\\mathbf X, \\mathbf Y$\")\n",
    "plt.xlim(1, 7)\n",
    "\n",
    "\n",
    "plt.tight_layout()\n",
    "plt.show()"
   ]
  },
  {
   "cell_type": "markdown",
   "metadata": {},
   "source": [
    "### Двухвыборочный критерий $\\chi^2$"
   ]
  },
  {
   "cell_type": "markdown",
   "metadata": {},
   "source": [
    "#### Теоретическая справка"
   ]
  },
  {
   "cell_type": "markdown",
   "metadata": {},
   "source": [
    "У нас есть две выборки объёмов $n$ и $m$: \n",
    "$$x_1, x_2, \\dots, x_n \\text{- случайной величины } \\mathbf X \\sim F_X(x)$$\n",
    "$$y_1, y_2, \\dots, y_m \\text{- случайной величины } \\mathbf Y \\sim F_Y(x)$$\n",
    "\n",
    "Мы хотим понять, получены ли они из одной генеральной совокупности:\n",
    "$$ H_0:\\ F_X(x) = F_Y(x) $$\n",
    "$$ H_1:\\ F_X(x) \\neq F_Y(x)  $$\n",
    "\n",
    "Идея та же, что и у одновыборочного критерия $\\chi^2$: cтроятся две гистограммы и сравниваются их высоты. Рекомендуется брать $\\Delta_i$ так, чтобы $n_i + m_i \\gtrsim 5$.\n",
    "\n",
    "| $\\Delta_i$ | $\\Delta_1$ | $\\cdots$ | $\\Delta_k$ |\n",
    "| ---------- | ---------- | -------- | ---------- |\n",
    "| $n_i$      | $n_1$      | $\\cdots$ | $n_k$      |\n",
    "| $m_i$      | $m_1$      | $\\cdots$ | $m_k$      |\n",
    "\n",
    "Статистика критерия: \n",
    "$$Z = nm \\cdot \\sum\\limits_{i=1}^k \\dfrac{1}{n_i + m_i}\\left( \\dfrac{n_i}{n} - \\dfrac{m_i}{m} \\right)^2$$\n",
    "$$Z \\mid_{H_0} \\sim \\chi^2(k-1)$$"
   ]
  },
  {
   "cell_type": "markdown",
   "metadata": {},
   "source": [
    "#### Код"
   ]
  },
  {
   "cell_type": "code",
   "execution_count": 288,
   "metadata": {},
   "outputs": [],
   "source": [
    "def chi2_2samp(X, Y, bins):\n",
    "    n = len(X)\n",
    "    m = len(Y)\n",
    "    frequencesX, bin_edges = np.histogram(\n",
    "        X, bins=bins, range=(min(min(X), min(Y)), max(max(X), max(Y)))\n",
    "    )\n",
    "    frequencesY, bin_edges = np.histogram(Y, bins=bin_edges)\n",
    "    z = (\n",
    "        n\n",
    "        * m\n",
    "        * sum((frequencesX / n - frequencesY / m) ** 2 / (frequencesX + frequencesY))\n",
    "    )\n",
    "    p_value = stats.chi2.sf(z, df=8)\n",
    "    return z, p_value"
   ]
  },
  {
   "cell_type": "code",
   "execution_count": 290,
   "metadata": {},
   "outputs": [
    {
     "data": {
      "text/markdown": [
       "### 2-sample $\\chi^2$ test"
      ],
      "text/plain": [
       "<IPython.core.display.Markdown object>"
      ]
     },
     "metadata": {},
     "output_type": "display_data"
    },
    {
     "data": {
      "text/markdown": [
       "$H_0: F_X(x) = F_Y(x)$"
      ],
      "text/plain": [
       "<IPython.core.display.Markdown object>"
      ]
     },
     "metadata": {},
     "output_type": "display_data"
    },
    {
     "data": {
      "text/markdown": [
       "$z_{выб} =$ 7.12"
      ],
      "text/plain": [
       "<IPython.core.display.Markdown object>"
      ]
     },
     "metadata": {},
     "output_type": "display_data"
    },
    {
     "data": {
      "text/markdown": [
       "$p =$ 0.52"
      ],
      "text/plain": [
       "<IPython.core.display.Markdown object>"
      ]
     },
     "metadata": {},
     "output_type": "display_data"
    },
    {
     "data": {
      "text/markdown": [
       "$H_0$ принимается"
      ],
      "text/plain": [
       "<IPython.core.display.Markdown object>"
      ]
     },
     "metadata": {},
     "output_type": "display_data"
    }
   ],
   "source": [
    "z, p_value = chi2_2samp(X, Y, bins=9)\n",
    "\n",
    "mprint(\n",
    "    r\"### 2-sample $\\chi^2$ test\",\n",
    "    f\"$H_0: F_X(x) = F_Y(x)$\",\n",
    "    f\"$z_{{выб}} =$ {z:.2f}\",\n",
    "    f\"$p =$ {p_value:.2f}\",\n",
    "    verdict(alpha, p_value),\n",
    ")"
   ]
  },
  {
   "cell_type": "markdown",
   "metadata": {},
   "source": [
    "| Критерий | Статистическая гипотеза $H_0$ | Выборочное значение статистики критерия | $p$-value | Статистическое решение при $\\alpha = 0.05$ | Ошибка статистического решения |\n",
    "| -------- | ----------------------------- | --------------------------------------- | --------- | ------------------------------------------ | ------------------------------ |\n",
    "| $\\chi^2$ | $F_X(x) = F_Y(x)$             | 7.12                                    | 0.52 | $H_0$ принимается                          | Нет                            |\n"
   ]
  },
  {
   "cell_type": "markdown",
   "metadata": {},
   "source": [
    "### Двухвыборочный критерий Колмогорова"
   ]
  },
  {
   "cell_type": "code",
   "execution_count": 291,
   "metadata": {},
   "outputs": [
    {
     "data": {
      "text/markdown": [
       "### 2-sample ks-test"
      ],
      "text/plain": [
       "<IPython.core.display.Markdown object>"
      ]
     },
     "metadata": {},
     "output_type": "display_data"
    },
    {
     "data": {
      "text/markdown": [
       "$H_0: F_X(x) = F_Y(x)$"
      ],
      "text/plain": [
       "<IPython.core.display.Markdown object>"
      ]
     },
     "metadata": {},
     "output_type": "display_data"
    },
    {
     "data": {
      "text/markdown": [
       "$z_{выб} =$ 0.22"
      ],
      "text/plain": [
       "<IPython.core.display.Markdown object>"
      ]
     },
     "metadata": {},
     "output_type": "display_data"
    },
    {
     "data": {
      "text/markdown": [
       "$p =$ 0.18"
      ],
      "text/plain": [
       "<IPython.core.display.Markdown object>"
      ]
     },
     "metadata": {},
     "output_type": "display_data"
    },
    {
     "data": {
      "text/markdown": [
       "$H_0$ принимается"
      ],
      "text/plain": [
       "<IPython.core.display.Markdown object>"
      ]
     },
     "metadata": {},
     "output_type": "display_data"
    }
   ],
   "source": [
    "z, p_value = stats.ks_2samp(X, Y)\n",
    "\n",
    "mprint(\n",
    "    r\"### 2-sample ks-test\",\n",
    "    f\"$H_0: F_X(x) = F_Y(x)$\",\n",
    "    f\"$z_{{выб}} =$ {z:.2f}\",\n",
    "    f\"$p =$ {p_value:.2f}\",\n",
    "    verdict(alpha, p_value),\n",
    ")"
   ]
  },
  {
   "cell_type": "markdown",
   "metadata": {},
   "source": [
    "| Критерий | Статистическая гипотеза $H_0$ | Выборочное значение статистики критерия | $p$-value | Статистическое решение при $\\alpha = 0.05$ | Ошибка статистического решения |\n",
    "| -------- | ----------------------------- | --------------------------------------- | --------- | ------------------------------------------ | ------------------------------ |\n",
    "| KS-test  | $F_X(x) = F_Y(x)$             | 0.22                                    | 0.18      | $H_0$ принимается                          | Нет                            |\n"
   ]
  },
  {
   "cell_type": "markdown",
   "metadata": {},
   "source": [
    "### Критерий знаков"
   ]
  },
  {
   "cell_type": "code",
   "execution_count": null,
   "metadata": {},
   "outputs": [
    {
     "data": {
      "text/markdown": [
       "### Sign test"
      ],
      "text/plain": [
       "<IPython.core.display.Markdown object>"
      ]
     },
     "metadata": {},
     "output_type": "display_data"
    },
    {
     "data": {
      "text/markdown": [
       "$H_0: F_X(x) = F_Y(x)$"
      ],
      "text/plain": [
       "<IPython.core.display.Markdown object>"
      ]
     },
     "metadata": {},
     "output_type": "display_data"
    },
    {
     "data": {
      "text/markdown": [
       "$z_{выб} =$ 5.00"
      ],
      "text/plain": [
       "<IPython.core.display.Markdown object>"
      ]
     },
     "metadata": {},
     "output_type": "display_data"
    },
    {
     "data": {
      "text/markdown": [
       "$p =$ 0.20"
      ],
      "text/plain": [
       "<IPython.core.display.Markdown object>"
      ]
     },
     "metadata": {},
     "output_type": "display_data"
    },
    {
     "data": {
      "text/markdown": [
       "$H_0$ принимается"
      ],
      "text/plain": [
       "<IPython.core.display.Markdown object>"
      ]
     },
     "metadata": {},
     "output_type": "display_data"
    }
   ],
   "source": [
    "z, p_value = sign_test(X - Y)\n",
    "mprint(\n",
    "    r\"### Sign test\",\n",
    "    f\"$H_0: F_X(x) = F_Y(x)$\",\n",
    "    f\"$z_{{выб}} =$ {z:.2f}\",\n",
    "    f\"$p =$ {p_value:.2f}\",\n",
    "    verdict(alpha, p_value),\n",
    ")"
   ]
  },
  {
   "cell_type": "markdown",
   "metadata": {},
   "source": [
    "| Критерий  | Статистическая гипотеза $H_0$ | Выборочное значение статистики критерия | $p$-value | Статистическое решение при $\\alpha = 0.05$ | Ошибка статистического решения |\n",
    "| --------- | ----------------------------- | --------------------------------------- | --------- | ------------------------------------------ | ------------------------------ |\n",
    "| Sign test | $F_X(x) = F_Y(x)$             | 5                                       | 0.20      | $H_0$ принимается                          | Нет                            |\n"
   ]
  },
  {
   "cell_type": "markdown",
   "metadata": {},
   "source": [
    "### Критерий Манна-Уитни"
   ]
  },
  {
   "cell_type": "code",
   "execution_count": 307,
   "metadata": {},
   "outputs": [
    {
     "data": {
      "text/markdown": [
       "### U-test"
      ],
      "text/plain": [
       "<IPython.core.display.Markdown object>"
      ]
     },
     "metadata": {},
     "output_type": "display_data"
    },
    {
     "data": {
      "text/markdown": [
       "$H_0: F_X(x) = F_Y(x)$"
      ],
      "text/plain": [
       "<IPython.core.display.Markdown object>"
      ]
     },
     "metadata": {},
     "output_type": "display_data"
    },
    {
     "data": {
      "text/markdown": [
       "$z_{выб} =$ 1459.00"
      ],
      "text/plain": [
       "<IPython.core.display.Markdown object>"
      ]
     },
     "metadata": {},
     "output_type": "display_data"
    },
    {
     "data": {
      "text/markdown": [
       "$p =$ 0.15"
      ],
      "text/plain": [
       "<IPython.core.display.Markdown object>"
      ]
     },
     "metadata": {},
     "output_type": "display_data"
    },
    {
     "data": {
      "text/markdown": [
       "$H_0$ принимается"
      ],
      "text/plain": [
       "<IPython.core.display.Markdown object>"
      ]
     },
     "metadata": {},
     "output_type": "display_data"
    }
   ],
   "source": [
    "# манна уитни\n",
    "z, p_value = stats.mannwhitneyu(X, Y)\n",
    "\n",
    "mprint(\n",
    "    r\"### U-test\",\n",
    "    f\"$H_0: F_X(x) = F_Y(x)$\",\n",
    "    f\"$z_{{выб}} =$ {z:.2f}\",\n",
    "    f\"$p =$ {p_value:.2f}\",\n",
    "    verdict(alpha, p_value),\n",
    ")"
   ]
  },
  {
   "cell_type": "markdown",
   "metadata": {},
   "source": [
    "| Критерий | Статистическая гипотеза $H_0$ | Выборочное значение статистики критерия | $p$-value | Статистическое решение при $\\alpha = 0.05$ | Ошибка статистического решения |\n",
    "| -------- | ----------------------------- | --------------------------------------- | --------- | ------------------------------------------ | ------------------------------ |\n",
    "| U-test   | $F_X(x) = F_Y(x)$             | 1459                                    | 0.15      | $H_0$ принимается                          | Нет                            |\n"
   ]
  }
 ],
 "metadata": {
  "kernelspec": {
   "display_name": ".venv",
   "language": "python",
   "name": "python3"
  },
  "language_info": {
   "codemirror_mode": {
    "name": "ipython",
    "version": 3
   },
   "file_extension": ".py",
   "mimetype": "text/x-python",
   "name": "python",
   "nbconvert_exporter": "python",
   "pygments_lexer": "ipython3",
   "version": "3.13.0"
  }
 },
 "nbformat": 4,
 "nbformat_minor": 2
}
